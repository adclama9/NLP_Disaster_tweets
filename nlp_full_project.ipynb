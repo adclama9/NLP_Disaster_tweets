{
 "cells": [
  {
   "cell_type": "markdown",
   "id": "696514fa-ce95-4675-be18-23b94304355c",
   "metadata": {},
   "source": [
    "things to try:\n",
    "lemma all text\n",
    "remove stopwords"
   ]
  },
  {
   "cell_type": "code",
   "execution_count": 8,
   "id": "403870d1-ac82-4ab3-b742-a2d2b364bf19",
   "metadata": {},
   "outputs": [],
   "source": [
    "#imports\n",
    "import spacy\n",
    "from spacy.util import minibatch\n",
    "from spacy.training.example import Example\n",
    "from spacy.matcher import PhraseMatcher\n",
    "import numpy as np\n",
    "import seaborn as sns\n",
    "import pandas as pd\n",
    "import random\n",
    "from numpy import warnings\n",
    "pd.set_option('display.max_rows', None)\n",
    "pd.set_option('display.max_columns', None)\n",
    "pd.set_option('display.width', None)\n",
    "pd.set_option('display.max_colwidth', None)\n",
    "warnings.filterwarnings('ignore')\n"
   ]
  },
  {
   "cell_type": "code",
   "execution_count": 9,
   "id": "da9a0439-0e44-40b8-9576-72bf5c1a08bd",
   "metadata": {
    "tags": []
   },
   "outputs": [
    {
     "data": {
      "text/html": [
       "<div>\n",
       "<style scoped>\n",
       "    .dataframe tbody tr th:only-of-type {\n",
       "        vertical-align: middle;\n",
       "    }\n",
       "\n",
       "    .dataframe tbody tr th {\n",
       "        vertical-align: top;\n",
       "    }\n",
       "\n",
       "    .dataframe thead th {\n",
       "        text-align: right;\n",
       "    }\n",
       "</style>\n",
       "<table border=\"1\" class=\"dataframe\">\n",
       "  <thead>\n",
       "    <tr style=\"text-align: right;\">\n",
       "      <th></th>\n",
       "      <th>id</th>\n",
       "      <th>keyword</th>\n",
       "      <th>location</th>\n",
       "      <th>text</th>\n",
       "      <th>target</th>\n",
       "    </tr>\n",
       "  </thead>\n",
       "  <tbody>\n",
       "    <tr>\n",
       "      <th>0</th>\n",
       "      <td>1</td>\n",
       "      <td>NaN</td>\n",
       "      <td>NaN</td>\n",
       "      <td>Our Deeds are the Reason of this #earthquake May ALLAH Forgive us all</td>\n",
       "      <td>1</td>\n",
       "    </tr>\n",
       "    <tr>\n",
       "      <th>1</th>\n",
       "      <td>4</td>\n",
       "      <td>NaN</td>\n",
       "      <td>NaN</td>\n",
       "      <td>Forest fire near La Ronge Sask. Canada</td>\n",
       "      <td>1</td>\n",
       "    </tr>\n",
       "    <tr>\n",
       "      <th>2</th>\n",
       "      <td>5</td>\n",
       "      <td>NaN</td>\n",
       "      <td>NaN</td>\n",
       "      <td>All residents asked to 'shelter in place' are being notified by officers. No other evacuation or shelter in place orders are expected</td>\n",
       "      <td>1</td>\n",
       "    </tr>\n",
       "    <tr>\n",
       "      <th>3</th>\n",
       "      <td>6</td>\n",
       "      <td>NaN</td>\n",
       "      <td>NaN</td>\n",
       "      <td>13,000 people receive #wildfires evacuation orders in California</td>\n",
       "      <td>1</td>\n",
       "    </tr>\n",
       "    <tr>\n",
       "      <th>4</th>\n",
       "      <td>7</td>\n",
       "      <td>NaN</td>\n",
       "      <td>NaN</td>\n",
       "      <td>Just got sent this photo from Ruby #Alaska as smoke from #wildfires pours into a school</td>\n",
       "      <td>1</td>\n",
       "    </tr>\n",
       "  </tbody>\n",
       "</table>\n",
       "</div>"
      ],
      "text/plain": [
       "   id keyword location  \\\n",
       "0   1     NaN      NaN   \n",
       "1   4     NaN      NaN   \n",
       "2   5     NaN      NaN   \n",
       "3   6     NaN      NaN   \n",
       "4   7     NaN      NaN   \n",
       "\n",
       "                                                                                                                                    text  \\\n",
       "0                                                                  Our Deeds are the Reason of this #earthquake May ALLAH Forgive us all   \n",
       "1                                                                                                 Forest fire near La Ronge Sask. Canada   \n",
       "2  All residents asked to 'shelter in place' are being notified by officers. No other evacuation or shelter in place orders are expected   \n",
       "3                                                                      13,000 people receive #wildfires evacuation orders in California    \n",
       "4                                               Just got sent this photo from Ruby #Alaska as smoke from #wildfires pours into a school    \n",
       "\n",
       "   target  \n",
       "0       1  \n",
       "1       1  \n",
       "2       1  \n",
       "3       1  \n",
       "4       1  "
      ]
     },
     "execution_count": 9,
     "metadata": {},
     "output_type": "execute_result"
    }
   ],
   "source": [
    "df_train = pd.read_csv('train.csv')\n",
    "df_train.head()"
   ]
  },
  {
   "cell_type": "code",
   "execution_count": 5,
   "id": "2e89fb0b-9c58-4429-a38d-050622664560",
   "metadata": {
    "collapsed": true,
    "jupyter": {
     "outputs_hidden": true
    },
    "tags": []
   },
   "outputs": [
    {
     "name": "stdout",
     "output_type": "stream",
     "text": [
      "location Nan:  2533\n",
      "keyword Nan:  61\n",
      "<class 'pandas.core.frame.DataFrame'>\n",
      "RangeIndex: 7613 entries, 0 to 7612\n",
      "Data columns (total 5 columns):\n",
      " #   Column    Non-Null Count  Dtype \n",
      "---  ------    --------------  ----- \n",
      " 0   id        7613 non-null   int64 \n",
      " 1   keyword   7552 non-null   object\n",
      " 2   location  5080 non-null   object\n",
      " 3   text      7613 non-null   object\n",
      " 4   target    7613 non-null   int64 \n",
      "dtypes: int64(2), object(3)\n",
      "memory usage: 297.5+ KB\n",
      "None\n"
     ]
    }
   ],
   "source": [
    "print('location Nan: ',df_train.location.isna().sum())\n",
    "print('keyword Nan: ',df_train.keyword.isna().sum())\n",
    "print(df_train.info())"
   ]
  },
  {
   "cell_type": "code",
   "execution_count": 6,
   "id": "786b04fd-11f1-4173-b327-4010f0721dfd",
   "metadata": {
    "collapsed": true,
    "jupyter": {
     "outputs_hidden": true
    },
    "tags": []
   },
   "outputs": [
    {
     "data": {
      "text/plain": [
       "United Kingdom       14\n",
       "San Francisco        14\n",
       "Los Angeles          13\n",
       "Indonesia            13\n",
       "Washington, D.C.     13\n",
       "NYC                  12\n",
       "Toronto              12\n",
       "Ireland              12\n",
       "San Francisco, CA    11\n",
       "Seattle              11\n",
       "Earth                11\n",
       "Chicago              11\n",
       "London, England      10\n",
       "Texas                10\n",
       "ss                   10\n",
       "New York City        10\n",
       "Atlanta, GA          10\n",
       "London, UK           10\n",
       "Sacramento, CA       10\n",
       "Nashville, TN         9\n",
       "Name: location, dtype: int64"
      ]
     },
     "execution_count": 6,
     "metadata": {},
     "output_type": "execute_result"
    }
   ],
   "source": [
    "df_train.location.value_counts()[20:40]"
   ]
  },
  {
   "cell_type": "markdown",
   "id": "9760c409-0f04-4f31-bff1-004434f45b14",
   "metadata": {},
   "source": [
    "### There are many fake places such as 'ss' or 'Worldwide' so I think we can just drop the whole column for this dataset"
   ]
  },
  {
   "cell_type": "code",
   "execution_count": 7,
   "id": "3e75ebd0-d94a-4133-a0d7-5aefcc976406",
   "metadata": {},
   "outputs": [],
   "source": [
    "df_train.drop(columns = ['location'],inplace=True)"
   ]
  },
  {
   "cell_type": "code",
   "execution_count": 8,
   "id": "58e73e0b-26b4-47f9-9838-24de5f01f52e",
   "metadata": {
    "collapsed": true,
    "jupyter": {
     "outputs_hidden": true
    },
    "tags": []
   },
   "outputs": [
    {
     "data": {
      "text/plain": [
       "fatalities     45\n",
       "armageddon     42\n",
       "deluge         42\n",
       "damage         41\n",
       "sinking        41\n",
       "body%20bags    41\n",
       "harm           41\n",
       "windstorm      40\n",
       "fear           40\n",
       "evacuate       40\n",
       "Name: keyword, dtype: int64"
      ]
     },
     "execution_count": 8,
     "metadata": {},
     "output_type": "execute_result"
    }
   ],
   "source": [
    "df_train.keyword.value_counts().head(10)"
   ]
  },
  {
   "cell_type": "markdown",
   "id": "8dc22008-c9b9-4024-a195-0dd0be8f6f22",
   "metadata": {},
   "source": [
    "## This column seems useful so we will keep it, drop the nan's since its only 61 rows and replace %20 with spaces"
   ]
  },
  {
   "cell_type": "code",
   "execution_count": 9,
   "id": "31cfbbd3-269e-4cb7-bccb-b9a97eb4bc53",
   "metadata": {},
   "outputs": [],
   "source": [
    "df_train.keyword = df_train.keyword.str.replace('%20',' ')"
   ]
  },
  {
   "cell_type": "code",
   "execution_count": 10,
   "id": "deb2457a-59c4-4cc7-b488-ff7797ee6a43",
   "metadata": {
    "collapsed": true,
    "jupyter": {
     "outputs_hidden": true
    },
    "tags": []
   },
   "outputs": [
    {
     "data": {
      "text/plain": [
       "fatalities    45\n",
       "deluge        42\n",
       "armageddon    42\n",
       "body bags     41\n",
       "sinking       41\n",
       "harm          41\n",
       "damage        41\n",
       "twister       40\n",
       "windstorm     40\n",
       "evacuate      40\n",
       "Name: keyword, dtype: int64"
      ]
     },
     "execution_count": 10,
     "metadata": {},
     "output_type": "execute_result"
    }
   ],
   "source": [
    "df_train.keyword.value_counts().head(10)"
   ]
  },
  {
   "cell_type": "code",
   "execution_count": 11,
   "id": "df48f378-c4b3-408a-9396-028498a712b2",
   "metadata": {
    "collapsed": true,
    "jupyter": {
     "outputs_hidden": true
    },
    "tags": []
   },
   "outputs": [
    {
     "name": "stdout",
     "output_type": "stream",
     "text": [
      "<class 'pandas.core.frame.DataFrame'>\n",
      "RangeIndex: 7613 entries, 0 to 7612\n",
      "Data columns (total 4 columns):\n",
      " #   Column   Non-Null Count  Dtype \n",
      "---  ------   --------------  ----- \n",
      " 0   id       7613 non-null   int64 \n",
      " 1   keyword  7552 non-null   object\n",
      " 2   text     7613 non-null   object\n",
      " 3   target   7613 non-null   int64 \n",
      "dtypes: int64(2), object(2)\n",
      "memory usage: 238.0+ KB\n"
     ]
    }
   ],
   "source": [
    "df_train.info()"
   ]
  },
  {
   "cell_type": "code",
   "execution_count": 12,
   "id": "52a88a3a-682b-41c1-9a02-8e32717c0832",
   "metadata": {},
   "outputs": [],
   "source": [
    "df_train.dropna(inplace=True)"
   ]
  },
  {
   "cell_type": "code",
   "execution_count": 13,
   "id": "675e008d-3478-45a5-a43b-fcad11e0a1f4",
   "metadata": {
    "collapsed": true,
    "jupyter": {
     "outputs_hidden": true
    },
    "tags": []
   },
   "outputs": [
    {
     "name": "stdout",
     "output_type": "stream",
     "text": [
      "<class 'pandas.core.frame.DataFrame'>\n",
      "Int64Index: 7552 entries, 31 to 7582\n",
      "Data columns (total 4 columns):\n",
      " #   Column   Non-Null Count  Dtype \n",
      "---  ------   --------------  ----- \n",
      " 0   id       7552 non-null   int64 \n",
      " 1   keyword  7552 non-null   object\n",
      " 2   text     7552 non-null   object\n",
      " 3   target   7552 non-null   int64 \n",
      "dtypes: int64(2), object(2)\n",
      "memory usage: 295.0+ KB\n"
     ]
    }
   ],
   "source": [
    "df_train.info()"
   ]
  },
  {
   "cell_type": "markdown",
   "id": "fb081b79-e977-4e8a-ae9d-088270b2f8d4",
   "metadata": {},
   "source": [
    "## Lets add the keyword to as the custom extension for the text and then train the model"
   ]
  },
  {
   "cell_type": "code",
   "execution_count": 14,
   "id": "575bd20c-6575-44c1-a21b-ad274649cd5c",
   "metadata": {
    "jupyter": {
     "source_hidden": true
    },
    "tags": []
   },
   "outputs": [],
   "source": [
    "from spacy.lang.en import English\n",
    "from spacy.tokens import Doc, Span\n",
    "\n",
    "def get_keyword(doc):\n",
    "    # Return if any of the tokens in the doc return True for token.like_num\n",
    "    return df_train.keyword[df_train.index[df_train.text == doc.text]]\n",
    "\n",
    "# Register the Doc property extension \"has_number\" with the getter get_has_number\n",
    "Doc.set_extension(\"keyword\", getter=get_keyword)"
   ]
  },
  {
   "cell_type": "markdown",
   "id": "741eaee3-a261-474d-8294-f812232cfffc",
   "metadata": {},
   "source": [
    "## We can try to process it with links then we can try without the links"
   ]
  },
  {
   "cell_type": "code",
   "execution_count": 12,
   "id": "25914e79-094f-450f-989e-60f60bccbab3",
   "metadata": {
    "tags": []
   },
   "outputs": [],
   "source": [
    "def split_data(data,which_data, split=0.8):\n",
    "    \n",
    "    # Shuffle data\n",
    "    train_data = data.sample(frac=1, random_state=7)\n",
    "    \n",
    "    texts = data[which_data]\n",
    "    labels = [{\"POSITIVE\": bool(y), \"NEGATIVE\": not bool(y)}\n",
    "              for y in train_data.target]\n",
    "    split = int(len(train_data) * split)\n",
    "    \n",
    "    train_labels = [{\"cats\": labels} for labels in labels[:split]]\n",
    "    val_labels = [{\"cats\": labels} for labels in labels[split:]]\n",
    "    \n",
    "    return texts[:split], train_labels, texts[split:], val_labels\n",
    "\n"
   ]
  },
  {
   "cell_type": "code",
   "execution_count": 17,
   "id": "7ee6d043-5772-40f6-856d-799250bf5b82",
   "metadata": {
    "tags": []
   },
   "outputs": [],
   "source": [
    "import random\n",
    "import spacy\n",
    "\n",
    "\n",
    "from spacy.util import minibatch\n",
    "from spacy.training.example import Example\n",
    "\n",
    "\n",
    "def train_data(nlp, text,labels):\n",
    "    textcat = nlp.add_pipe(\"textcat\")\n",
    "    # Add labels to text classifier\n",
    "    textcat.add_label(\"POSITIVE\")\n",
    "    textcat.add_label(\"NEGATIVE\")\n",
    "    random.seed(1)\n",
    "    spacy.util.fix_random_seed(1)\n",
    "    optimizer = nlp.begin_training()\n",
    "    losses = {}\n",
    "    train_data = list(zip(train_texts, train_labels))\n",
    "    for epoch in range(10):\n",
    "        # Create the batch generator with batch size = 8\n",
    "        batches = minibatch(train_data, size=8)\n",
    "        # Iterate through minibatches\n",
    "        for batch in batches:\n",
    "            for text, labels in batch:\n",
    "                doc = nlp.make_doc(text)\n",
    "                example = Example.from_dict(doc, labels)\n",
    "                nlp.update([example], sgd=optimizer, losses=losses)\n",
    "        print(losses)\n",
    "    "
   ]
  },
  {
   "cell_type": "code",
   "execution_count": 9,
   "id": "d8bfee45-ba1c-4639-b47e-f32fbd6e0bc8",
   "metadata": {
    "tags": []
   },
   "outputs": [],
   "source": [
    "def predict(nlp, texts): \n",
    "    # Use the model's tokenizer to tokenize each input text\n",
    "    docs = [nlp.tokenizer(text) for text in texts]\n",
    "    \n",
    "    # Use textcat to get the scores for each doc\n",
    "    textcat = nlp.get_pipe('textcat')\n",
    "    scores = textcat.predict(docs)\n",
    "    # From the scores, find the class with the highest score/probability\n",
    "    predicted_class = scores.argmax(axis=1)\n",
    "    \n",
    "    return predicted_class\n"
   ]
  },
  {
   "cell_type": "code",
   "execution_count": 10,
   "id": "31082c57-c373-4ea2-8da8-7f6cfabf0dcd",
   "metadata": {
    "tags": []
   },
   "outputs": [],
   "source": [
    "\n",
    "def evaluate(model, texts, labels):\n",
    "    \"\"\" Returns the accuracy of a TextCategorizer model. \n",
    "    \n",
    "        Arguments\n",
    "        ---------\n",
    "        model: ScaPy model with a TextCategorizer\n",
    "        texts: Text samples, from load_data function\n",
    "        labels: True labels, from load_data function\n",
    "    \n",
    "    \"\"\"\n",
    "    # Get predictions from textcat model (using your predict method)\n",
    "    predicted_class = predict(model,texts)\n",
    "    \n",
    "    # From labels, get the true class as a list of integers (POSITIVE -> 1, NEGATIVE -> 0)\n",
    "    true_class = [int(each['cats']['POSITIVE']) for each in labels]\n",
    "    \n",
    "    # A boolean or int array indicating correct predictions\n",
    "    correct_predictions = predicted_class == true_class\n",
    "    \n",
    "    # The accuracy, number of correct predictions divided by all predictions\n",
    "    accuracy = correct_predictions.mean()\n",
    "    \n",
    "    return accuracy\n"
   ]
  },
  {
   "cell_type": "code",
   "execution_count": 18,
   "id": "7beb1033-df25-4bb0-8a15-d83caf25c2ac",
   "metadata": {
    "collapsed": true,
    "jupyter": {
     "outputs_hidden": true
    },
    "tags": []
   },
   "outputs": [
    {
     "name": "stdout",
     "output_type": "stream",
     "text": [
      "0.29649238914626075\n"
     ]
    }
   ],
   "source": [
    "print(evaluate(nlp,val_texts,val_labels))"
   ]
  },
  {
   "cell_type": "markdown",
   "id": "6e6dd242-44dd-4284-b2e4-1a877dfac19f",
   "metadata": {},
   "source": [
    "Well, thats terrible.. I guess it's time to cut the link and do lemmatization"
   ]
  },
  {
   "cell_type": "code",
   "execution_count": 15,
   "id": "641388ba-6f9e-490b-83fe-92a2e20dc9d9",
   "metadata": {
    "collapsed": true,
    "jupyter": {
     "outputs_hidden": true
    },
    "tags": []
   },
   "outputs": [
    {
     "data": {
      "text/html": [
       "<div>\n",
       "<style scoped>\n",
       "    .dataframe tbody tr th:only-of-type {\n",
       "        vertical-align: middle;\n",
       "    }\n",
       "\n",
       "    .dataframe tbody tr th {\n",
       "        vertical-align: top;\n",
       "    }\n",
       "\n",
       "    .dataframe thead th {\n",
       "        text-align: right;\n",
       "    }\n",
       "</style>\n",
       "<table border=\"1\" class=\"dataframe\">\n",
       "  <thead>\n",
       "    <tr style=\"text-align: right;\">\n",
       "      <th></th>\n",
       "      <th>id</th>\n",
       "      <th>keyword</th>\n",
       "      <th>text</th>\n",
       "      <th>target</th>\n",
       "    </tr>\n",
       "  </thead>\n",
       "  <tbody>\n",
       "    <tr>\n",
       "      <th>31</th>\n",
       "      <td>48</td>\n",
       "      <td>ablaze</td>\n",
       "      <td>@bbcmtd Wholesale Markets ablaze</td>\n",
       "      <td>1</td>\n",
       "    </tr>\n",
       "    <tr>\n",
       "      <th>32</th>\n",
       "      <td>49</td>\n",
       "      <td>ablaze</td>\n",
       "      <td>We always try to bring the heavy. #metal #RT</td>\n",
       "      <td>0</td>\n",
       "    </tr>\n",
       "    <tr>\n",
       "      <th>33</th>\n",
       "      <td>50</td>\n",
       "      <td>ablaze</td>\n",
       "      <td>#AFRICANBAZE: Breaking news:Nigeria flag set ablaze in Aba.</td>\n",
       "      <td>1</td>\n",
       "    </tr>\n",
       "    <tr>\n",
       "      <th>34</th>\n",
       "      <td>52</td>\n",
       "      <td>ablaze</td>\n",
       "      <td>Crying out for more! Set me ablaze</td>\n",
       "      <td>0</td>\n",
       "    </tr>\n",
       "    <tr>\n",
       "      <th>35</th>\n",
       "      <td>53</td>\n",
       "      <td>ablaze</td>\n",
       "      <td>On plus side LOOK AT THE SKY LAST NIGHT IT WAS ABLAZE</td>\n",
       "      <td>0</td>\n",
       "    </tr>\n",
       "    <tr>\n",
       "      <th>36</th>\n",
       "      <td>54</td>\n",
       "      <td>ablaze</td>\n",
       "      <td>@PhDSquares #mufc they've built so much hype around new acquisitions but I doubt they will set the EPL ablaze this season.</td>\n",
       "      <td>0</td>\n",
       "    </tr>\n",
       "    <tr>\n",
       "      <th>37</th>\n",
       "      <td>55</td>\n",
       "      <td>ablaze</td>\n",
       "      <td>INEC Office in Abia Set Ablaze -</td>\n",
       "      <td>1</td>\n",
       "    </tr>\n",
       "    <tr>\n",
       "      <th>38</th>\n",
       "      <td>56</td>\n",
       "      <td>ablaze</td>\n",
       "      <td>Barbados #Bridgetown JAMAICA ÛÒ Two cars set ablaze: SANTA CRUZ ÛÓ Head of the St Elizabeth Police Superintende...</td>\n",
       "      <td>1</td>\n",
       "    </tr>\n",
       "    <tr>\n",
       "      <th>39</th>\n",
       "      <td>57</td>\n",
       "      <td>ablaze</td>\n",
       "      <td>Ablaze for you Lord :D</td>\n",
       "      <td>0</td>\n",
       "    </tr>\n",
       "    <tr>\n",
       "      <th>40</th>\n",
       "      <td>59</td>\n",
       "      <td>ablaze</td>\n",
       "      <td>Check these out:</td>\n",
       "      <td>0</td>\n",
       "    </tr>\n",
       "    <tr>\n",
       "      <th>41</th>\n",
       "      <td>61</td>\n",
       "      <td>ablaze</td>\n",
       "      <td>on the outside you're ablaze and alive\\nbut you're dead inside</td>\n",
       "      <td>0</td>\n",
       "    </tr>\n",
       "    <tr>\n",
       "      <th>42</th>\n",
       "      <td>62</td>\n",
       "      <td>ablaze</td>\n",
       "      <td>Had an awesome time visiting the CFC head office the ancop site and ablaze. Thanks to Tita Vida for taking care of us ??</td>\n",
       "      <td>0</td>\n",
       "    </tr>\n",
       "    <tr>\n",
       "      <th>43</th>\n",
       "      <td>63</td>\n",
       "      <td>ablaze</td>\n",
       "      <td>SOOOO PUMPED FOR ABLAZE ???? @southridgelife</td>\n",
       "      <td>0</td>\n",
       "    </tr>\n",
       "    <tr>\n",
       "      <th>44</th>\n",
       "      <td>64</td>\n",
       "      <td>ablaze</td>\n",
       "      <td>I wanted to set Chicago ablaze with my preaching... But not my hotel!</td>\n",
       "      <td>0</td>\n",
       "    </tr>\n",
       "    <tr>\n",
       "      <th>45</th>\n",
       "      <td>65</td>\n",
       "      <td>ablaze</td>\n",
       "      <td>I gained 3 followers in the last week. You? Know your stats and grow with</td>\n",
       "      <td>0</td>\n",
       "    </tr>\n",
       "    <tr>\n",
       "      <th>46</th>\n",
       "      <td>66</td>\n",
       "      <td>ablaze</td>\n",
       "      <td>How the West was burned: Thousands of wildfires ablaze in California alone</td>\n",
       "      <td>1</td>\n",
       "    </tr>\n",
       "    <tr>\n",
       "      <th>47</th>\n",
       "      <td>67</td>\n",
       "      <td>ablaze</td>\n",
       "      <td>Building the perfect tracklist to life leave the streets ablaze</td>\n",
       "      <td>0</td>\n",
       "    </tr>\n",
       "    <tr>\n",
       "      <th>48</th>\n",
       "      <td>68</td>\n",
       "      <td>ablaze</td>\n",
       "      <td>Check these out:</td>\n",
       "      <td>0</td>\n",
       "    </tr>\n",
       "    <tr>\n",
       "      <th>49</th>\n",
       "      <td>71</td>\n",
       "      <td>ablaze</td>\n",
       "      <td>First night with retainers in. It's quite weird. Better get used to it; I have to wear them every single night for the next year at least.</td>\n",
       "      <td>0</td>\n",
       "    </tr>\n",
       "    <tr>\n",
       "      <th>50</th>\n",
       "      <td>73</td>\n",
       "      <td>ablaze</td>\n",
       "      <td>Deputies: Man shot before Brighton home set ablaze</td>\n",
       "      <td>1</td>\n",
       "    </tr>\n",
       "  </tbody>\n",
       "</table>\n",
       "</div>"
      ],
      "text/plain": [
       "    id keyword  \\\n",
       "31  48  ablaze   \n",
       "32  49  ablaze   \n",
       "33  50  ablaze   \n",
       "34  52  ablaze   \n",
       "35  53  ablaze   \n",
       "36  54  ablaze   \n",
       "37  55  ablaze   \n",
       "38  56  ablaze   \n",
       "39  57  ablaze   \n",
       "40  59  ablaze   \n",
       "41  61  ablaze   \n",
       "42  62  ablaze   \n",
       "43  63  ablaze   \n",
       "44  64  ablaze   \n",
       "45  65  ablaze   \n",
       "46  66  ablaze   \n",
       "47  67  ablaze   \n",
       "48  68  ablaze   \n",
       "49  71  ablaze   \n",
       "50  73  ablaze   \n",
       "\n",
       "                                                                                                                                          text  \\\n",
       "31                                                                                                           @bbcmtd Wholesale Markets ablaze    \n",
       "32                                                                                               We always try to bring the heavy. #metal #RT    \n",
       "33                                                                                #AFRICANBAZE: Breaking news:Nigeria flag set ablaze in Aba.    \n",
       "34                                                                                                          Crying out for more! Set me ablaze   \n",
       "35                                                                                      On plus side LOOK AT THE SKY LAST NIGHT IT WAS ABLAZE    \n",
       "36                  @PhDSquares #mufc they've built so much hype around new acquisitions but I doubt they will set the EPL ablaze this season.   \n",
       "37                                                                                                           INEC Office in Abia Set Ablaze -    \n",
       "38                      Barbados #Bridgetown JAMAICA ÛÒ Two cars set ablaze: SANTA CRUZ ÛÓ Head of the St Elizabeth Police Superintende...     \n",
       "39                                                                                                                      Ablaze for you Lord :D   \n",
       "40                                                                                                                           Check these out:    \n",
       "41                                                                              on the outside you're ablaze and alive\\nbut you're dead inside   \n",
       "42                    Had an awesome time visiting the CFC head office the ancop site and ablaze. Thanks to Tita Vida for taking care of us ??   \n",
       "43                                                                                                SOOOO PUMPED FOR ABLAZE ???? @southridgelife   \n",
       "44                                                                      I wanted to set Chicago ablaze with my preaching... But not my hotel!    \n",
       "45                                                                  I gained 3 followers in the last week. You? Know your stats and grow with    \n",
       "46                                                                 How the West was burned: Thousands of wildfires ablaze in California alone    \n",
       "47                                                                             Building the perfect tracklist to life leave the streets ablaze   \n",
       "48                                                                                                                           Check these out:    \n",
       "49  First night with retainers in. It's quite weird. Better get used to it; I have to wear them every single night for the next year at least.   \n",
       "50                                                                                         Deputies: Man shot before Brighton home set ablaze    \n",
       "\n",
       "    target  \n",
       "31       1  \n",
       "32       0  \n",
       "33       1  \n",
       "34       0  \n",
       "35       0  \n",
       "36       0  \n",
       "37       1  \n",
       "38       1  \n",
       "39       0  \n",
       "40       0  \n",
       "41       0  \n",
       "42       0  \n",
       "43       0  \n",
       "44       0  \n",
       "45       0  \n",
       "46       1  \n",
       "47       0  \n",
       "48       0  \n",
       "49       0  \n",
       "50       1  "
      ]
     },
     "execution_count": 15,
     "metadata": {},
     "output_type": "execute_result"
    }
   ],
   "source": [
    "import re\n",
    "df_train['text'] = df_train['text'].apply(lambda x: re.split('http:\\/\\/.*', str(x))[0])\n",
    "df_train.head(20)"
   ]
  },
  {
   "cell_type": "markdown",
   "id": "a1290e82-a5d9-492a-b08b-a3a0b526a005",
   "metadata": {},
   "source": [
    "The Hashtags might be useful so we will leave it and the "
   ]
  },
  {
   "cell_type": "code",
   "execution_count": 41,
   "id": "193a9ced-0302-4e1d-abec-b70e1bfd57ee",
   "metadata": {
    "collapsed": true,
    "jupyter": {
     "outputs_hidden": true
    },
    "tags": []
   },
   "outputs": [
    {
     "data": {
      "text/plain": [
       "31                                       Wholesale Markets ablaze \n",
       "32                   We always try to bring the heavy. #metal #RT \n",
       "33    #AFRICANBAZE: Breaking news:Nigeria flag set ablaze in Aba. \n",
       "34                              Crying out for more! Set me ablaze\n",
       "35          On plus side LOOK AT THE SKY LAST NIGHT IT WAS ABLAZE \n",
       "Name: text, dtype: object"
      ]
     },
     "execution_count": 41,
     "metadata": {},
     "output_type": "execute_result"
    }
   ],
   "source": [
    "import re\n",
    "\n",
    "df_train['text'] = [ re.sub( \"@[^\\s]+\", \"\",x) for x in df_train['text'] ]\n",
    "df_train.text.head()"
   ]
  },
  {
   "cell_type": "markdown",
   "id": "f11b5294-27f3-420f-8eec-04a2dbeb30a0",
   "metadata": {},
   "source": [
    "## time to lemma\n",
    "### we will just add it to the pipeline and retrain/re-evaluate"
   ]
  },
  {
   "cell_type": "code",
   "execution_count": 43,
   "id": "0f3b26e4-51f6-466b-9ef5-2e1e3acde9e7",
   "metadata": {
    "jupyter": {
     "source_hidden": true
    },
    "tags": []
   },
   "outputs": [
    {
     "name": "stdout",
     "output_type": "stream",
     "text": [
      "['textcat']\n"
     ]
    }
   ],
   "source": [
    "nlp = spacy.blank('en')\n",
    "config = {\"mode\": \"rule\", \"overwrite\": True}\n",
    "textcat = nlp.add_pipe(\"textcat\")\n",
    "# make sure the pipeline is in the right order\n",
    "print(nlp.pipe_names)"
   ]
  },
  {
   "cell_type": "code",
   "execution_count": 46,
   "id": "f77afa60-c015-47cb-a7e2-6aa0df41e69e",
   "metadata": {
    "jupyter": {
     "source_hidden": true
    },
    "tags": []
   },
   "outputs": [],
   "source": [
    "textcat.add_label(\"POSITIVE\")\n",
    "textcat.add_label(\"NEGATIVE\")\n",
    "random.seed(1)\n",
    "spacy.util.fix_random_seed(1)\n",
    "\n",
    "def train_data_revised(text,labels):\n",
    "    optimizer = nlp.begin_training()\n",
    "    losses = {}\n",
    "    train_data = list(zip(train_texts, train_labels))\n",
    "    for epoch in range(10):\n",
    "        # Create the batch generator with batch size = 8\n",
    "        batches = minibatch(train_data, size=8)\n",
    "        # Iterate through minibatches\n",
    "        for batch in batches:\n",
    "            for text, labels in batch:\n",
    "                doc = nlp.make_doc(text)\n",
    "                doc = nlp.make_doc(' '.join([token.lemma_ for token in doc]))\n",
    "                example = Example.from_dict(doc, labels)\n",
    "                nlp.update([example], sgd=optimizer, losses=losses)\n",
    "        print(losses)\n",
    "        "
   ]
  },
  {
   "cell_type": "markdown",
   "id": "c751ed37-b772-4b51-86f6-6d173586c8b5",
   "metadata": {},
   "source": [
    "training time"
   ]
  },
  {
   "cell_type": "code",
   "execution_count": 47,
   "id": "12e0887f-a37b-4b05-ad5b-99a54a24932c",
   "metadata": {
    "collapsed": true,
    "jupyter": {
     "outputs_hidden": true,
     "source_hidden": true
    },
    "tags": []
   },
   "outputs": [
    {
     "name": "stdout",
     "output_type": "stream",
     "text": [
      "{'textcat': 3408.785533385788}\n",
      "{'textcat': 6571.3855210339825}\n",
      "{'textcat': 9710.419881779904}\n",
      "{'textcat': 12809.537989072705}\n",
      "{'textcat': 15872.08745364772}\n",
      "{'textcat': 18909.73925317239}\n",
      "{'textcat': 21939.149305348023}\n",
      "{'textcat': 24946.068432995788}\n",
      "{'textcat': 27889.443326120934}\n",
      "{'textcat': 30821.16531138934}\n",
      "0.4116479152878888\n"
     ]
    }
   ],
   "source": [
    "# resplit data\n",
    "train_texts, train_labels,val_texts, val_labels = split_data(df_train)\n",
    "train_data_revised(train_texts,train_labels)\n",
    "print(evaluate(nlp,val_texts,val_labels))"
   ]
  },
  {
   "cell_type": "markdown",
   "id": "81c5653a-c29d-4299-a00c-70db8323b3f7",
   "metadata": {},
   "source": [
    "big improvement! how can we improve it further?\n",
    "- vectorization?\n",
    "- remove stop words\n",
    "- retrain with all data\n",
    "- add keyword to sentence instead of an extension"
   ]
  },
  {
   "cell_type": "code",
   "execution_count": 1,
   "id": "db86a9af-caef-4c2f-a088-98b87f7d62ab",
   "metadata": {},
   "outputs": [
    {
     "ename": "NameError",
     "evalue": "name 'train_texts' is not defined",
     "output_type": "error",
     "traceback": [
      "\u001b[1;31m---------------------------------------------------------------------------\u001b[0m",
      "\u001b[1;31mNameError\u001b[0m                                 Traceback (most recent call last)",
      "\u001b[1;32m<ipython-input-1-a3c0017c041e>\u001b[0m in \u001b[0;36m<module>\u001b[1;34m\u001b[0m\n\u001b[1;32m----> 1\u001b[1;33m \u001b[0mtrain_texts\u001b[0m\u001b[1;33m[\u001b[0m\u001b[1;36m0\u001b[0m\u001b[1;33m]\u001b[0m\u001b[1;33m\u001b[0m\u001b[1;33m\u001b[0m\u001b[0m\n\u001b[0m",
      "\u001b[1;31mNameError\u001b[0m: name 'train_texts' is not defined"
     ]
    }
   ],
   "source": [
    "train_texts[0]"
   ]
  },
  {
   "cell_type": "code",
   "execution_count": 4,
   "id": "101997c7-5e4c-43a5-b99c-10e0dc1790a9",
   "metadata": {},
   "outputs": [],
   "source": [
    "import re\n",
    "import spacy\n",
    "\n",
    "def clean_data(df_train):\n",
    "    \n",
    "    \n",
    "    # remove locations\n",
    "    df_train.drop(columns = ['location'],inplace=True)\n",
    "    # fixing keywords from spaces\n",
    "    df_train.keyword = df_train.keyword.str.replace('%20',' ')\n",
    "    # removing rows with nan\n",
    "    df_train.dropna(inplace=True)\n",
    "    # remove links and twitter @ tags\n",
    "    df_train['text'] = df_train['text'].apply(lambda x: re.split('http:\\/\\/.*', str(x))[0])\n",
    "    df_train['text'] = [ re.sub( \"@[^\\s]+\", \"\",x) for x in df_train['text'] ]\n",
    "    # removing the # from texts\n",
    "    df_train['text'] = df_train['text'].replace('#','')\n",
    "    # Remove all punctuation\n",
    "    df_train['text'] = df_train['text'].str.replace('[^\\w\\s]',' ')\n",
    "    # add keyword to text\n",
    "    df_train['text'] = df_train['keyword']+' '+ df_train['text']\n",
    "    # lemmatize text\n",
    "    nlp = spacy.load('en_core_web_md')\n",
    "    lemma_text = []\n",
    "    vector_text = []\n",
    "    for text in df_train['text']:\n",
    "        lemmatized_sentence = []\n",
    "        doc = nlp(text)\n",
    "        vector_text.append(doc.vector)\n",
    "        for word in doc:\n",
    "            lemmatized_sentence.append(word.lemma_)\n",
    "        lemma_text.append(' '.join(lemmatized_sentence))\n",
    "    df_train['lemma_text'] = lemma_text\n",
    "    df_train['vector_text'] = vector_text\n",
    "    "
   ]
  },
  {
   "cell_type": "code",
   "execution_count": 4,
   "id": "9195f78d-24ef-4ed3-bc84-892e925f96db",
   "metadata": {},
   "outputs": [],
   "source": [
    "clean_data(df_train)"
   ]
  },
  {
   "cell_type": "code",
   "execution_count": 19,
   "id": "f75aadde-de44-4292-9794-4845a2f47c52",
   "metadata": {},
   "outputs": [
    {
     "data": {
      "text/html": [
       "<div>\n",
       "<style scoped>\n",
       "    .dataframe tbody tr th:only-of-type {\n",
       "        vertical-align: middle;\n",
       "    }\n",
       "\n",
       "    .dataframe tbody tr th {\n",
       "        vertical-align: top;\n",
       "    }\n",
       "\n",
       "    .dataframe thead th {\n",
       "        text-align: right;\n",
       "    }\n",
       "</style>\n",
       "<table border=\"1\" class=\"dataframe\">\n",
       "  <thead>\n",
       "    <tr style=\"text-align: right;\">\n",
       "      <th></th>\n",
       "      <th>id</th>\n",
       "      <th>keyword</th>\n",
       "      <th>text</th>\n",
       "      <th>target</th>\n",
       "      <th>lemma_text</th>\n",
       "      <th>vector_text</th>\n",
       "    </tr>\n",
       "  </thead>\n",
       "  <tbody>\n",
       "    <tr>\n",
       "      <th>31</th>\n",
       "      <td>48</td>\n",
       "      <td>ablaze</td>\n",
       "      <td>ablaze  Wholesale Markets ablaze</td>\n",
       "      <td>1</td>\n",
       "      <td>ablaze   Wholesale Markets ablaze</td>\n",
       "      <td>[-0.0563236, 0.257118, 0.1955008, 0.0688708, 0.182452, -0.155606, 0.113748, 0.35473198, -0.1426564, 1.160272, -0.07376599, -0.29792398, -0.099010006, -0.27831, -0.09935601, -0.11009719, 0.32681003, 0.807452, 0.22835799, -0.09993, -0.065302, 0.036398, 0.005114003, -0.042065807, 0.09796201, 0.14403799, -0.307568, 0.123176, -0.014593994, -0.015843997, -0.012040001, -0.07972039, -0.20578401, 0.09755139, -0.036065996, 0.0068355976, 0.18506669, 0.144444, 0.14343621, 0.0418124, 0.022623003, 0.0041340007, 0.24607602, -0.22774442, 0.05598221, 0.0065254, 0.056873996, -0.178454, -0.1993216, 0.161984, 0.063133396, 0.2606274, -0.028442722, 0.25649, 0.16508639, -0.12415598, -0.333006, 0.088394, -0.011596799, -0.19837399, -0.089459196, -0.16033998, -0.004598403, -0.030435601, -0.06268401, -0.1724724, 0.2821346, -0.09074, 0.106261395, -0.110604204, 0.1158576, -0.17723, -0.14292601, 0.214138, 0.145776, 0.0128617585, 0.1582818, 0.031759597, 0.025170002, -0.090425596, 0.048223794, 0.202898, -0.1456964, -0.062476397, 0.15210919, 0.15843621, 0.10579141, 0.59602606, -0.039108, 0.1184654, -0.04655268, -0.0051670047, 0.32464108, -0.191902, 0.0020141988, 0.0587912, -0.11395688, 0.18360801, -0.114694, -0.1219092, ...]</td>\n",
       "    </tr>\n",
       "    <tr>\n",
       "      <th>32</th>\n",
       "      <td>49</td>\n",
       "      <td>ablaze</td>\n",
       "      <td>ablaze We always try to bring the heavy   metal  RT</td>\n",
       "      <td>0</td>\n",
       "      <td>ablaze we always try to bring the heavy    metal   RT</td>\n",
       "      <td>[0.045223314, 0.1333939, -0.050343323, 0.08015067, 0.058838334, -0.0554654, -0.018545, 0.08634857, -0.051001832, 1.5571651, -0.10734125, -0.10247001, 0.13837694, 0.029538453, -0.079866245, -0.13390766, 0.044125587, 1.0139709, -0.1453875, 0.029887335, 0.09791225, -0.0023505837, -0.044185847, -0.060278002, -0.06502458, 0.016685084, -0.10645178, -0.074082986, 0.099368095, -0.07184333, 0.007993648, 0.0489028, -0.105595164, 0.121057004, 0.11047691, -0.023924187, 0.1304792, 0.09394637, 0.026132086, -0.04840246, -0.032212753, 0.023670083, -0.023923248, -0.19602084, 0.076127246, -0.04462072, 0.029789248, -0.10485867, -0.105620354, 0.07480307, 0.021529667, 0.101172, 0.09638619, 0.11223215, 0.029637339, 0.018065736, -0.16108476, -0.026385665, -0.051710915, -0.055401, -0.13327457, -0.04083883, -0.10042878, 0.14891459, 0.06408292, -0.06431223, 0.047274664, -0.042019755, 0.05255917, 0.059616495, -0.022005146, 0.0026573853, 0.110539995, 0.0010725869, 0.20260318, 0.01784075, 0.04255783, 0.009275745, -0.040025167, 0.0037872486, 0.018847583, 0.033973992, -0.23186707, -0.04028337, 0.10116502, -0.115347445, 0.037151914, 0.122359686, 0.1257649, 0.035692245, -0.072939165, -0.09851825, 0.08350283, 0.1036765, 0.012105833, 0.085228, 0.04201318, 0.017549252, -0.031674832, 0.004940662, ...]</td>\n",
       "    </tr>\n",
       "    <tr>\n",
       "      <th>33</th>\n",
       "      <td>50</td>\n",
       "      <td>ablaze</td>\n",
       "      <td>ablaze  AFRICANBAZE  Breaking news Nigeria flag set ablaze in Aba</td>\n",
       "      <td>1</td>\n",
       "      <td>ablaze   AFRICANBAZE   break news Nigeria flag set ablaze in Aba</td>\n",
       "      <td>[0.013710539, 0.14963509, 0.1158237, -0.021470385, -0.015969686, -0.08640769, -0.017800616, 0.11728731, -0.08619977, 1.017307, -0.15669984, -0.17209195, 0.0132249985, -0.039106157, -0.07251846, 0.004347696, 0.16670431, 0.5195946, 0.13820623, -0.13763155, -0.04797069, 0.014259151, 0.14222346, -0.041423623, 0.08688776, -0.04426492, -0.09938362, 0.13981031, 0.12833564, 0.0698008, 0.02618777, 0.0046466915, -0.07892693, 0.17477046, 0.059629228, 0.03305077, 0.022554385, 0.16193262, -0.033037618, -0.02115508, 0.10090612, 0.0062303073, 0.080808386, -0.07174353, -0.011538084, -0.10158007, 0.098384224, -0.04438454, -0.171915, -0.0044546905, -0.09982138, -0.027612928, -0.039756425, 0.029415388, -0.057097398, 0.009407693, 0.037795153, 0.053968847, 0.1611676, -0.06302346, -0.11900708, 0.120851554, -0.027273927, -0.030337691, 0.019895535, 0.014181694, 0.014484333, 0.0007102306, 0.12199794, 0.06954709, -0.03853, 0.010639996, 0.031774845, -0.08349548, 0.12122769, -0.0054409276, 0.029222231, -0.02278946, 0.051309228, 0.05586761, -0.05128553, 0.19871166, -0.034725077, 0.106526166, 0.12809578, 0.09827346, 0.17790054, 0.041525695, 0.054549996, 0.02161969, -0.10107393, -0.012843907, 0.055861536, -0.14940824, 0.09644616, -0.02239723, -0.026017278, 0.017880846, 0.025325079, -0.1365313, ...]</td>\n",
       "    </tr>\n",
       "    <tr>\n",
       "      <th>34</th>\n",
       "      <td>52</td>\n",
       "      <td>ablaze</td>\n",
       "      <td>ablaze Crying out for more  Set me ablaze</td>\n",
       "      <td>0</td>\n",
       "      <td>ablaze cry out for more   set I ablaze</td>\n",
       "      <td>[-0.08995756, 0.11759244, -0.08122, -0.029197553, -0.006869993, -0.19197613, 0.0754507, 0.10767313, -0.11243746, 1.7843889, -0.008387334, 0.008158041, -0.11804488, -0.2459089, -0.2356178, 0.010067667, 0.17390192, 0.7425306, -0.04697856, -0.12515357, -0.059702232, -0.027122777, -0.0547698, -0.060813565, 0.036551777, 0.06768833, -0.045341447, 0.016913222, 0.19880466, -0.23925011, -0.023427509, 0.046070002, -0.15035106, 0.13557723, 0.17509556, -0.07507956, 0.022524223, 0.17192912, 0.031884268, 0.031574003, 0.099027775, 0.052810665, -0.043464445, -0.18416223, 0.009930447, 0.05300531, -0.039858446, 0.041764442, -0.106243335, 0.054790888, -0.16168256, 0.09312722, 0.0098546045, 0.1635192, -0.013276803, 0.0555374, -0.19980022, 0.08922422, 0.046698555, -0.041246668, -0.043917555, 0.08258178, -0.14845222, -0.021393783, 0.10539889, -0.10816121, 0.12860855, -0.031298444, 0.06115456, 0.05544467, 0.12901677, -0.123196214, 0.13539334, -0.021527328, 0.19005497, 0.067581445, 0.33387244, -0.08747199, 0.050218448, 0.0034977794, -0.082274675, 0.23823884, -0.19380924, -0.079814665, 0.16406454, 0.046545222, 0.1711489, -0.11480966, 0.24497999, 0.13508691, -0.19227445, -0.012764226, 0.14634188, -0.02571266, -0.06490355, 0.075043336, -0.038724624, 0.0054678884, 0.017896777, -0.120978445, ...]</td>\n",
       "    </tr>\n",
       "    <tr>\n",
       "      <th>35</th>\n",
       "      <td>53</td>\n",
       "      <td>ablaze</td>\n",
       "      <td>ablaze On plus side LOOK AT THE SKY LAST NIGHT IT WAS ABLAZE</td>\n",
       "      <td>0</td>\n",
       "      <td>ablaze on plus side look at the sky last night IT be ABLAZE</td>\n",
       "      <td>[0.032484073, 0.1740431, 0.033485074, -0.0036149188, -0.0013422164, -0.046681523, -0.08786322, 0.032194097, -0.13592847, 2.2008386, -0.034301404, -0.044110376, -0.031158956, -0.13417497, -0.13369201, -0.002500386, 0.07098547, 1.0166038, -0.08283892, -0.24428834, -0.055191737, -0.032442153, 0.02083176, 0.10574408, 0.085134074, 0.059678383, -0.1422994, -0.03057, 0.1183076, 0.00033086882, 0.039395873, 0.06378786, -0.11910617, 0.16017283, -0.13483231, 0.04957923, -0.14016654, 0.19692527, -0.041626267, -0.03492546, 0.030270616, 0.06749431, -0.025826113, -0.033653904, 0.14616455, 0.08231422, -0.15882176, -0.16421422, -0.07912915, 0.10046678, 0.0635812, 0.21464816, -0.03167212, 0.1419592, -0.029285006, -0.0012090765, -0.07295223, 0.03591076, 0.021291535, -0.1360579, 0.017315766, -0.074611075, 0.018184615, 0.21039301, -0.036654234, -0.03249577, 0.018010924, -0.077152774, 0.10598707, 0.12190127, 0.15172495, -0.08535262, 0.09415731, 0.12827902, 0.08414377, -0.015140036, 0.13363153, -0.099028386, -0.18793562, 0.028882911, -0.06927308, 0.15690023, -0.06538077, 0.10850138, 0.20292701, -0.07926167, 0.15254492, 0.011496549, 0.18989514, 0.120457225, -0.079798974, 0.0676493, 0.090242386, -0.02781092, 0.11697939, -0.027646612, 0.027552454, 0.050137963, 0.14073277, 0.062165543, ...]</td>\n",
       "    </tr>\n",
       "  </tbody>\n",
       "</table>\n",
       "</div>"
      ],
      "text/plain": [
       "    id keyword  \\\n",
       "31  48  ablaze   \n",
       "32  49  ablaze   \n",
       "33  50  ablaze   \n",
       "34  52  ablaze   \n",
       "35  53  ablaze   \n",
       "\n",
       "                                                                   text  \\\n",
       "31                                    ablaze  Wholesale Markets ablaze    \n",
       "32                 ablaze We always try to bring the heavy   metal  RT    \n",
       "33  ablaze  AFRICANBAZE  Breaking news Nigeria flag set ablaze in Aba     \n",
       "34                            ablaze Crying out for more  Set me ablaze   \n",
       "35        ablaze On plus side LOOK AT THE SKY LAST NIGHT IT WAS ABLAZE    \n",
       "\n",
       "    target  \\\n",
       "31       1   \n",
       "32       0   \n",
       "33       1   \n",
       "34       0   \n",
       "35       0   \n",
       "\n",
       "                                                            lemma_text  \\\n",
       "31                                   ablaze   Wholesale Markets ablaze   \n",
       "32               ablaze we always try to bring the heavy    metal   RT   \n",
       "33  ablaze   AFRICANBAZE   break news Nigeria flag set ablaze in Aba     \n",
       "34                              ablaze cry out for more   set I ablaze   \n",
       "35         ablaze on plus side look at the sky last night IT be ABLAZE   \n",
       "\n",
       "                                                                                                                                                                                                                                                                                                                                                                                                                                                                                                                                                                                                                                                                                                                                                                                                                                                                                                                                                                                                                                                                                                                                                                                                                                                                                                                                 vector_text  \n",
       "31                                                                               [-0.0563236, 0.257118, 0.1955008, 0.0688708, 0.182452, -0.155606, 0.113748, 0.35473198, -0.1426564, 1.160272, -0.07376599, -0.29792398, -0.099010006, -0.27831, -0.09935601, -0.11009719, 0.32681003, 0.807452, 0.22835799, -0.09993, -0.065302, 0.036398, 0.005114003, -0.042065807, 0.09796201, 0.14403799, -0.307568, 0.123176, -0.014593994, -0.015843997, -0.012040001, -0.07972039, -0.20578401, 0.09755139, -0.036065996, 0.0068355976, 0.18506669, 0.144444, 0.14343621, 0.0418124, 0.022623003, 0.0041340007, 0.24607602, -0.22774442, 0.05598221, 0.0065254, 0.056873996, -0.178454, -0.1993216, 0.161984, 0.063133396, 0.2606274, -0.028442722, 0.25649, 0.16508639, -0.12415598, -0.333006, 0.088394, -0.011596799, -0.19837399, -0.089459196, -0.16033998, -0.004598403, -0.030435601, -0.06268401, -0.1724724, 0.2821346, -0.09074, 0.106261395, -0.110604204, 0.1158576, -0.17723, -0.14292601, 0.214138, 0.145776, 0.0128617585, 0.1582818, 0.031759597, 0.025170002, -0.090425596, 0.048223794, 0.202898, -0.1456964, -0.062476397, 0.15210919, 0.15843621, 0.10579141, 0.59602606, -0.039108, 0.1184654, -0.04655268, -0.0051670047, 0.32464108, -0.191902, 0.0020141988, 0.0587912, -0.11395688, 0.18360801, -0.114694, -0.1219092, ...]  \n",
       "32     [0.045223314, 0.1333939, -0.050343323, 0.08015067, 0.058838334, -0.0554654, -0.018545, 0.08634857, -0.051001832, 1.5571651, -0.10734125, -0.10247001, 0.13837694, 0.029538453, -0.079866245, -0.13390766, 0.044125587, 1.0139709, -0.1453875, 0.029887335, 0.09791225, -0.0023505837, -0.044185847, -0.060278002, -0.06502458, 0.016685084, -0.10645178, -0.074082986, 0.099368095, -0.07184333, 0.007993648, 0.0489028, -0.105595164, 0.121057004, 0.11047691, -0.023924187, 0.1304792, 0.09394637, 0.026132086, -0.04840246, -0.032212753, 0.023670083, -0.023923248, -0.19602084, 0.076127246, -0.04462072, 0.029789248, -0.10485867, -0.105620354, 0.07480307, 0.021529667, 0.101172, 0.09638619, 0.11223215, 0.029637339, 0.018065736, -0.16108476, -0.026385665, -0.051710915, -0.055401, -0.13327457, -0.04083883, -0.10042878, 0.14891459, 0.06408292, -0.06431223, 0.047274664, -0.042019755, 0.05255917, 0.059616495, -0.022005146, 0.0026573853, 0.110539995, 0.0010725869, 0.20260318, 0.01784075, 0.04255783, 0.009275745, -0.040025167, 0.0037872486, 0.018847583, 0.033973992, -0.23186707, -0.04028337, 0.10116502, -0.115347445, 0.037151914, 0.122359686, 0.1257649, 0.035692245, -0.072939165, -0.09851825, 0.08350283, 0.1036765, 0.012105833, 0.085228, 0.04201318, 0.017549252, -0.031674832, 0.004940662, ...]  \n",
       "33  [0.013710539, 0.14963509, 0.1158237, -0.021470385, -0.015969686, -0.08640769, -0.017800616, 0.11728731, -0.08619977, 1.017307, -0.15669984, -0.17209195, 0.0132249985, -0.039106157, -0.07251846, 0.004347696, 0.16670431, 0.5195946, 0.13820623, -0.13763155, -0.04797069, 0.014259151, 0.14222346, -0.041423623, 0.08688776, -0.04426492, -0.09938362, 0.13981031, 0.12833564, 0.0698008, 0.02618777, 0.0046466915, -0.07892693, 0.17477046, 0.059629228, 0.03305077, 0.022554385, 0.16193262, -0.033037618, -0.02115508, 0.10090612, 0.0062303073, 0.080808386, -0.07174353, -0.011538084, -0.10158007, 0.098384224, -0.04438454, -0.171915, -0.0044546905, -0.09982138, -0.027612928, -0.039756425, 0.029415388, -0.057097398, 0.009407693, 0.037795153, 0.053968847, 0.1611676, -0.06302346, -0.11900708, 0.120851554, -0.027273927, -0.030337691, 0.019895535, 0.014181694, 0.014484333, 0.0007102306, 0.12199794, 0.06954709, -0.03853, 0.010639996, 0.031774845, -0.08349548, 0.12122769, -0.0054409276, 0.029222231, -0.02278946, 0.051309228, 0.05586761, -0.05128553, 0.19871166, -0.034725077, 0.106526166, 0.12809578, 0.09827346, 0.17790054, 0.041525695, 0.054549996, 0.02161969, -0.10107393, -0.012843907, 0.055861536, -0.14940824, 0.09644616, -0.02239723, -0.026017278, 0.017880846, 0.025325079, -0.1365313, ...]  \n",
       "34  [-0.08995756, 0.11759244, -0.08122, -0.029197553, -0.006869993, -0.19197613, 0.0754507, 0.10767313, -0.11243746, 1.7843889, -0.008387334, 0.008158041, -0.11804488, -0.2459089, -0.2356178, 0.010067667, 0.17390192, 0.7425306, -0.04697856, -0.12515357, -0.059702232, -0.027122777, -0.0547698, -0.060813565, 0.036551777, 0.06768833, -0.045341447, 0.016913222, 0.19880466, -0.23925011, -0.023427509, 0.046070002, -0.15035106, 0.13557723, 0.17509556, -0.07507956, 0.022524223, 0.17192912, 0.031884268, 0.031574003, 0.099027775, 0.052810665, -0.043464445, -0.18416223, 0.009930447, 0.05300531, -0.039858446, 0.041764442, -0.106243335, 0.054790888, -0.16168256, 0.09312722, 0.0098546045, 0.1635192, -0.013276803, 0.0555374, -0.19980022, 0.08922422, 0.046698555, -0.041246668, -0.043917555, 0.08258178, -0.14845222, -0.021393783, 0.10539889, -0.10816121, 0.12860855, -0.031298444, 0.06115456, 0.05544467, 0.12901677, -0.123196214, 0.13539334, -0.021527328, 0.19005497, 0.067581445, 0.33387244, -0.08747199, 0.050218448, 0.0034977794, -0.082274675, 0.23823884, -0.19380924, -0.079814665, 0.16406454, 0.046545222, 0.1711489, -0.11480966, 0.24497999, 0.13508691, -0.19227445, -0.012764226, 0.14634188, -0.02571266, -0.06490355, 0.075043336, -0.038724624, 0.0054678884, 0.017896777, -0.120978445, ...]  \n",
       "35      [0.032484073, 0.1740431, 0.033485074, -0.0036149188, -0.0013422164, -0.046681523, -0.08786322, 0.032194097, -0.13592847, 2.2008386, -0.034301404, -0.044110376, -0.031158956, -0.13417497, -0.13369201, -0.002500386, 0.07098547, 1.0166038, -0.08283892, -0.24428834, -0.055191737, -0.032442153, 0.02083176, 0.10574408, 0.085134074, 0.059678383, -0.1422994, -0.03057, 0.1183076, 0.00033086882, 0.039395873, 0.06378786, -0.11910617, 0.16017283, -0.13483231, 0.04957923, -0.14016654, 0.19692527, -0.041626267, -0.03492546, 0.030270616, 0.06749431, -0.025826113, -0.033653904, 0.14616455, 0.08231422, -0.15882176, -0.16421422, -0.07912915, 0.10046678, 0.0635812, 0.21464816, -0.03167212, 0.1419592, -0.029285006, -0.0012090765, -0.07295223, 0.03591076, 0.021291535, -0.1360579, 0.017315766, -0.074611075, 0.018184615, 0.21039301, -0.036654234, -0.03249577, 0.018010924, -0.077152774, 0.10598707, 0.12190127, 0.15172495, -0.08535262, 0.09415731, 0.12827902, 0.08414377, -0.015140036, 0.13363153, -0.099028386, -0.18793562, 0.028882911, -0.06927308, 0.15690023, -0.06538077, 0.10850138, 0.20292701, -0.07926167, 0.15254492, 0.011496549, 0.18989514, 0.120457225, -0.079798974, 0.0676493, 0.090242386, -0.02781092, 0.11697939, -0.027646612, 0.027552454, 0.050137963, 0.14073277, 0.062165543, ...]  "
      ]
     },
     "execution_count": 19,
     "metadata": {},
     "output_type": "execute_result"
    }
   ],
   "source": [
    "df_train.head()"
   ]
  },
  {
   "cell_type": "markdown",
   "id": "89438fcc-e236-4d2a-9ed1-92c06f3b6425",
   "metadata": {},
   "source": [
    "## Now we can retrain with vectors and lemmatized text and see which performs better\n",
    "\n",
    "### Lets do lemmatized text  followed by vectored text"
   ]
  },
  {
   "cell_type": "code",
   "execution_count": 20,
   "id": "64753387-6b98-4328-b7a4-b25e72923839",
   "metadata": {},
   "outputs": [
    {
     "name": "stdout",
     "output_type": "stream",
     "text": [
      "{'textcat': 3464.7708281795058}\n",
      "{'textcat': 6647.314140336079}\n",
      "{'textcat': 9738.455008731271}\n",
      "{'textcat': 12530.436533370645}\n",
      "{'textcat': 14761.559309078966}\n",
      "{'textcat': 16487.391534169547}\n",
      "{'textcat': 17848.317449445047}\n",
      "{'textcat': 19085.826673614796}\n",
      "{'textcat': 20206.240546356912}\n",
      "{'textcat': 21265.321677953958}\n",
      "0.48444738583719393\n"
     ]
    },
    {
     "ename": "TypeError",
     "evalue": "Argument 'string' has incorrect type (expected str, got numpy.ndarray)",
     "output_type": "error",
     "traceback": [
      "\u001b[1;31m---------------------------------------------------------------------------\u001b[0m",
      "\u001b[1;31mTypeError\u001b[0m                                 Traceback (most recent call last)",
      "\u001b[1;32m<ipython-input-20-2e25fa3f9f7a>\u001b[0m in \u001b[0;36m<module>\u001b[1;34m\u001b[0m\n\u001b[0;32m      6\u001b[0m \u001b[0mnlp\u001b[0m \u001b[1;33m=\u001b[0m \u001b[0mspacy\u001b[0m\u001b[1;33m.\u001b[0m\u001b[0mblank\u001b[0m\u001b[1;33m(\u001b[0m\u001b[1;34m'en'\u001b[0m\u001b[1;33m)\u001b[0m\u001b[1;33m\u001b[0m\u001b[1;33m\u001b[0m\u001b[0m\n\u001b[0;32m      7\u001b[0m \u001b[0mtrain_texts\u001b[0m\u001b[1;33m,\u001b[0m \u001b[0mtrain_labels\u001b[0m\u001b[1;33m,\u001b[0m\u001b[0mval_texts\u001b[0m\u001b[1;33m,\u001b[0m \u001b[0mval_labels\u001b[0m \u001b[1;33m=\u001b[0m \u001b[0msplit_data\u001b[0m\u001b[1;33m(\u001b[0m\u001b[0mdf_train\u001b[0m\u001b[1;33m,\u001b[0m\u001b[1;34m'vector_text'\u001b[0m\u001b[1;33m)\u001b[0m\u001b[1;33m\u001b[0m\u001b[1;33m\u001b[0m\u001b[0m\n\u001b[1;32m----> 8\u001b[1;33m \u001b[0mtrain_data\u001b[0m\u001b[1;33m(\u001b[0m\u001b[0mnlp\u001b[0m\u001b[1;33m,\u001b[0m \u001b[0mtrain_texts\u001b[0m\u001b[1;33m,\u001b[0m \u001b[0mtrain_labels\u001b[0m\u001b[1;33m)\u001b[0m\u001b[1;33m\u001b[0m\u001b[1;33m\u001b[0m\u001b[0m\n\u001b[0m\u001b[0;32m      9\u001b[0m \u001b[0mprint\u001b[0m\u001b[1;33m(\u001b[0m\u001b[0mevaluate\u001b[0m\u001b[1;33m(\u001b[0m\u001b[0mnlp\u001b[0m\u001b[1;33m,\u001b[0m\u001b[0mval_texts\u001b[0m\u001b[1;33m,\u001b[0m\u001b[0mval_labels\u001b[0m\u001b[1;33m)\u001b[0m\u001b[1;33m)\u001b[0m\u001b[1;33m\u001b[0m\u001b[1;33m\u001b[0m\u001b[0m\n",
      "\u001b[1;32m<ipython-input-17-7a0dee38f3be>\u001b[0m in \u001b[0;36mtrain_data\u001b[1;34m(nlp, text, labels)\u001b[0m\n\u001b[0;32m     23\u001b[0m         \u001b[1;32mfor\u001b[0m \u001b[0mbatch\u001b[0m \u001b[1;32min\u001b[0m \u001b[0mbatches\u001b[0m\u001b[1;33m:\u001b[0m\u001b[1;33m\u001b[0m\u001b[1;33m\u001b[0m\u001b[0m\n\u001b[0;32m     24\u001b[0m             \u001b[1;32mfor\u001b[0m \u001b[0mtext\u001b[0m\u001b[1;33m,\u001b[0m \u001b[0mlabels\u001b[0m \u001b[1;32min\u001b[0m \u001b[0mbatch\u001b[0m\u001b[1;33m:\u001b[0m\u001b[1;33m\u001b[0m\u001b[1;33m\u001b[0m\u001b[0m\n\u001b[1;32m---> 25\u001b[1;33m                 \u001b[0mdoc\u001b[0m \u001b[1;33m=\u001b[0m \u001b[0mnlp\u001b[0m\u001b[1;33m.\u001b[0m\u001b[0mmake_doc\u001b[0m\u001b[1;33m(\u001b[0m\u001b[0mtext\u001b[0m\u001b[1;33m)\u001b[0m\u001b[1;33m\u001b[0m\u001b[1;33m\u001b[0m\u001b[0m\n\u001b[0m\u001b[0;32m     26\u001b[0m                 \u001b[0mexample\u001b[0m \u001b[1;33m=\u001b[0m \u001b[0mExample\u001b[0m\u001b[1;33m.\u001b[0m\u001b[0mfrom_dict\u001b[0m\u001b[1;33m(\u001b[0m\u001b[0mdoc\u001b[0m\u001b[1;33m,\u001b[0m \u001b[0mlabels\u001b[0m\u001b[1;33m)\u001b[0m\u001b[1;33m\u001b[0m\u001b[1;33m\u001b[0m\u001b[0m\n\u001b[0;32m     27\u001b[0m                 \u001b[0mnlp\u001b[0m\u001b[1;33m.\u001b[0m\u001b[0mupdate\u001b[0m\u001b[1;33m(\u001b[0m\u001b[1;33m[\u001b[0m\u001b[0mexample\u001b[0m\u001b[1;33m]\u001b[0m\u001b[1;33m,\u001b[0m \u001b[0msgd\u001b[0m\u001b[1;33m=\u001b[0m\u001b[0moptimizer\u001b[0m\u001b[1;33m,\u001b[0m \u001b[0mlosses\u001b[0m\u001b[1;33m=\u001b[0m\u001b[0mlosses\u001b[0m\u001b[1;33m)\u001b[0m\u001b[1;33m\u001b[0m\u001b[1;33m\u001b[0m\u001b[0m\n",
      "\u001b[1;32m~\\anaconda3\\envs\\juplab\\lib\\site-packages\\spacy\\language.py\u001b[0m in \u001b[0;36mmake_doc\u001b[1;34m(self, text)\u001b[0m\n\u001b[0;32m   1067\u001b[0m                 \u001b[0mErrors\u001b[0m\u001b[1;33m.\u001b[0m\u001b[0mE088\u001b[0m\u001b[1;33m.\u001b[0m\u001b[0mformat\u001b[0m\u001b[1;33m(\u001b[0m\u001b[0mlength\u001b[0m\u001b[1;33m=\u001b[0m\u001b[0mlen\u001b[0m\u001b[1;33m(\u001b[0m\u001b[0mtext\u001b[0m\u001b[1;33m)\u001b[0m\u001b[1;33m,\u001b[0m \u001b[0mmax_length\u001b[0m\u001b[1;33m=\u001b[0m\u001b[0mself\u001b[0m\u001b[1;33m.\u001b[0m\u001b[0mmax_length\u001b[0m\u001b[1;33m)\u001b[0m\u001b[1;33m\u001b[0m\u001b[1;33m\u001b[0m\u001b[0m\n\u001b[0;32m   1068\u001b[0m             )\n\u001b[1;32m-> 1069\u001b[1;33m         \u001b[1;32mreturn\u001b[0m \u001b[0mself\u001b[0m\u001b[1;33m.\u001b[0m\u001b[0mtokenizer\u001b[0m\u001b[1;33m(\u001b[0m\u001b[0mtext\u001b[0m\u001b[1;33m)\u001b[0m\u001b[1;33m\u001b[0m\u001b[1;33m\u001b[0m\u001b[0m\n\u001b[0m\u001b[0;32m   1070\u001b[0m \u001b[1;33m\u001b[0m\u001b[0m\n\u001b[0;32m   1071\u001b[0m     def update(\n",
      "\u001b[1;31mTypeError\u001b[0m: Argument 'string' has incorrect type (expected str, got numpy.ndarray)"
     ]
    }
   ],
   "source": [
    "nlp = spacy.blank('en')\n",
    "train_texts, train_labels,val_texts, val_labels = split_data(df_train,'lemma_text')\n",
    "train_data(nlp, train_texts, train_labels)\n",
    "print(evaluate(nlp,val_texts,val_labels))\n",
    "\n"
   ]
  },
  {
   "cell_type": "markdown",
   "id": "e79659a4-1890-4394-88c1-20fd99634c2b",
   "metadata": {},
   "source": [
    "have to train vector text seperately"
   ]
  },
  {
   "cell_type": "code",
   "execution_count": 22,
   "id": "4cad2983-22fd-422f-82e3-c4516999433e",
   "metadata": {},
   "outputs": [],
   "source": [
    "def train_vector_data(nlp, text,labels):\n",
    "    textcat = nlp.add_pipe(\"textcat\")\n",
    "    # Add labels to text classifier\n",
    "    textcat.add_label(\"POSITIVE\")\n",
    "    textcat.add_label(\"NEGATIVE\")\n",
    "    random.seed(1)\n",
    "    spacy.util.fix_random_seed(1)\n",
    "    optimizer = nlp.begin_training()\n",
    "    losses = {}\n",
    "    train_data = list(zip(train_texts, train_labels))\n",
    "    for epoch in range(10):\n",
    "        # Create the batch generator with batch size = 8\n",
    "        batches = minibatch(train_data, size=8)\n",
    "        # Iterate through minibatches\n",
    "        for batch in batches:\n",
    "            for text, labels in batch:\n",
    "                doc = nlp.make_doc(text)\n",
    "                example = Example.from_dict(doc.vector, labels)\n",
    "                nlp.update([example], sgd=optimizer, losses=losses)\n",
    "        print(losses)\n",
    "    "
   ]
  },
  {
   "cell_type": "code",
   "execution_count": 23,
   "id": "35a199ab-fd71-4a52-a0d7-a73a934ec886",
   "metadata": {},
   "outputs": [
    {
     "ename": "TypeError",
     "evalue": "Argument 'predicted' has incorrect type (expected spacy.tokens.doc.Doc, got numpy.ndarray)",
     "output_type": "error",
     "traceback": [
      "\u001b[1;31m---------------------------------------------------------------------------\u001b[0m",
      "\u001b[1;31mTypeError\u001b[0m                                 Traceback (most recent call last)",
      "\u001b[1;32m<ipython-input-23-167e2002bd23>\u001b[0m in \u001b[0;36m<module>\u001b[1;34m\u001b[0m\n\u001b[0;32m      1\u001b[0m \u001b[0mnlp\u001b[0m \u001b[1;33m=\u001b[0m \u001b[0mspacy\u001b[0m\u001b[1;33m.\u001b[0m\u001b[0mblank\u001b[0m\u001b[1;33m(\u001b[0m\u001b[1;34m'en'\u001b[0m\u001b[1;33m)\u001b[0m\u001b[1;33m\u001b[0m\u001b[1;33m\u001b[0m\u001b[0m\n\u001b[0;32m      2\u001b[0m \u001b[0mtrain_texts\u001b[0m\u001b[1;33m,\u001b[0m \u001b[0mtrain_labels\u001b[0m\u001b[1;33m,\u001b[0m\u001b[0mval_texts\u001b[0m\u001b[1;33m,\u001b[0m \u001b[0mval_labels\u001b[0m \u001b[1;33m=\u001b[0m \u001b[0msplit_data\u001b[0m\u001b[1;33m(\u001b[0m\u001b[0mdf_train\u001b[0m\u001b[1;33m,\u001b[0m\u001b[1;34m'lemma_text'\u001b[0m\u001b[1;33m)\u001b[0m\u001b[1;33m\u001b[0m\u001b[1;33m\u001b[0m\u001b[0m\n\u001b[1;32m----> 3\u001b[1;33m \u001b[0mtrain_vector_data\u001b[0m\u001b[1;33m(\u001b[0m\u001b[0mnlp\u001b[0m\u001b[1;33m,\u001b[0m \u001b[0mtrain_texts\u001b[0m\u001b[1;33m,\u001b[0m \u001b[0mtrain_labels\u001b[0m\u001b[1;33m)\u001b[0m\u001b[1;33m\u001b[0m\u001b[1;33m\u001b[0m\u001b[0m\n\u001b[0m\u001b[0;32m      4\u001b[0m \u001b[0mprint\u001b[0m\u001b[1;33m(\u001b[0m\u001b[0mevaluate\u001b[0m\u001b[1;33m(\u001b[0m\u001b[0mnlp\u001b[0m\u001b[1;33m,\u001b[0m\u001b[0mval_texts\u001b[0m\u001b[1;33m,\u001b[0m\u001b[0mval_labels\u001b[0m\u001b[1;33m)\u001b[0m\u001b[1;33m)\u001b[0m\u001b[1;33m\u001b[0m\u001b[1;33m\u001b[0m\u001b[0m\n",
      "\u001b[1;32m<ipython-input-22-64ce016736da>\u001b[0m in \u001b[0;36mtrain_vector_data\u001b[1;34m(nlp, text, labels)\u001b[0m\n\u001b[0;32m     16\u001b[0m             \u001b[1;32mfor\u001b[0m \u001b[0mtext\u001b[0m\u001b[1;33m,\u001b[0m \u001b[0mlabels\u001b[0m \u001b[1;32min\u001b[0m \u001b[0mbatch\u001b[0m\u001b[1;33m:\u001b[0m\u001b[1;33m\u001b[0m\u001b[1;33m\u001b[0m\u001b[0m\n\u001b[0;32m     17\u001b[0m                 \u001b[0mdoc\u001b[0m \u001b[1;33m=\u001b[0m \u001b[0mnlp\u001b[0m\u001b[1;33m.\u001b[0m\u001b[0mmake_doc\u001b[0m\u001b[1;33m(\u001b[0m\u001b[0mtext\u001b[0m\u001b[1;33m)\u001b[0m\u001b[1;33m\u001b[0m\u001b[1;33m\u001b[0m\u001b[0m\n\u001b[1;32m---> 18\u001b[1;33m                 \u001b[0mexample\u001b[0m \u001b[1;33m=\u001b[0m \u001b[0mExample\u001b[0m\u001b[1;33m.\u001b[0m\u001b[0mfrom_dict\u001b[0m\u001b[1;33m(\u001b[0m\u001b[0mdoc\u001b[0m\u001b[1;33m.\u001b[0m\u001b[0mvector\u001b[0m\u001b[1;33m,\u001b[0m \u001b[0mlabels\u001b[0m\u001b[1;33m)\u001b[0m\u001b[1;33m\u001b[0m\u001b[1;33m\u001b[0m\u001b[0m\n\u001b[0m\u001b[0;32m     19\u001b[0m                 \u001b[0mnlp\u001b[0m\u001b[1;33m.\u001b[0m\u001b[0mupdate\u001b[0m\u001b[1;33m(\u001b[0m\u001b[1;33m[\u001b[0m\u001b[0mexample\u001b[0m\u001b[1;33m]\u001b[0m\u001b[1;33m,\u001b[0m \u001b[0msgd\u001b[0m\u001b[1;33m=\u001b[0m\u001b[0moptimizer\u001b[0m\u001b[1;33m,\u001b[0m \u001b[0mlosses\u001b[0m\u001b[1;33m=\u001b[0m\u001b[0mlosses\u001b[0m\u001b[1;33m)\u001b[0m\u001b[1;33m\u001b[0m\u001b[1;33m\u001b[0m\u001b[0m\n\u001b[0;32m     20\u001b[0m         \u001b[0mprint\u001b[0m\u001b[1;33m(\u001b[0m\u001b[0mlosses\u001b[0m\u001b[1;33m)\u001b[0m\u001b[1;33m\u001b[0m\u001b[1;33m\u001b[0m\u001b[0m\n",
      "\u001b[1;31mTypeError\u001b[0m: Argument 'predicted' has incorrect type (expected spacy.tokens.doc.Doc, got numpy.ndarray)"
     ]
    }
   ],
   "source": [
    "nlp = spacy.blank('en')\n",
    "train_texts, train_labels,val_texts, val_labels = split_data(df_train,'lemma_text')\n",
    "train_vector_data(nlp, train_texts, train_labels)\n",
    "print(evaluate(nlp,val_texts,val_labels))\n"
   ]
  },
  {
   "cell_type": "code",
   "execution_count": null,
   "id": "b9d20178-feca-490e-a307-a5fbc8b0b754",
   "metadata": {},
   "outputs": [],
   "source": []
  },
  {
   "cell_type": "code",
   "execution_count": 24,
   "id": "77826e9c-4e76-42c7-b120-01125e0c8a4a",
   "metadata": {},
   "outputs": [
    {
     "data": {
      "text/plain": [
       "31                                     ablaze   Wholesale Markets ablaze\n",
       "32                 ablaze we always try to bring the heavy    metal   RT\n",
       "33    ablaze   AFRICANBAZE   break news Nigeria flag set ablaze in Aba  \n",
       "34                                ablaze cry out for more   set I ablaze\n",
       "35           ablaze on plus side look at the sky last night IT be ABLAZE\n",
       "Name: lemma_text, dtype: object"
      ]
     },
     "execution_count": 24,
     "metadata": {},
     "output_type": "execute_result"
    }
   ],
   "source": [
    "train_texts.head()"
   ]
  },
  {
   "cell_type": "code",
   "execution_count": 25,
   "id": "049349ff-60a3-44fa-b29e-7f83a9505b0e",
   "metadata": {},
   "outputs": [],
   "source": [
    "def split_vector_data(data, split=0.8):\n",
    "    \n",
    "    # Shuffle data\n",
    "    train_data = data.sample(frac=1, random_state=7)\n",
    "    \n",
    "    texts = data['vector_text']\n",
    "    labels = data['target']\n",
    "    split = int(len(train_data) * split)\n",
    "    \n",
    "    return texts[:split], train_labels[:split], texts[split:], val_labels[split:]\n"
   ]
  },
  {
   "cell_type": "code",
   "execution_count": 27,
   "id": "f0addeaa-8bac-4c37-8654-3db7380d3e57",
   "metadata": {
    "collapsed": true,
    "jupyter": {
     "outputs_hidden": true
    },
    "tags": []
   },
   "outputs": [
    {
     "ename": "ValueError",
     "evalue": "setting an array element with a sequence.",
     "output_type": "error",
     "traceback": [
      "\u001b[1;31m---------------------------------------------------------------------------\u001b[0m",
      "\u001b[1;31mTypeError\u001b[0m                                 Traceback (most recent call last)",
      "\u001b[1;31mTypeError\u001b[0m: only size-1 arrays can be converted to Python scalars",
      "\nThe above exception was the direct cause of the following exception:\n",
      "\u001b[1;31mValueError\u001b[0m                                Traceback (most recent call last)",
      "\u001b[1;32m<ipython-input-27-0143f6d205a4>\u001b[0m in \u001b[0;36m<module>\u001b[1;34m\u001b[0m\n\u001b[0;32m      2\u001b[0m \u001b[1;32mfrom\u001b[0m \u001b[0msklearn\u001b[0m \u001b[1;32mimport\u001b[0m \u001b[0mtree\u001b[0m\u001b[1;33m\u001b[0m\u001b[1;33m\u001b[0m\u001b[0m\n\u001b[0;32m      3\u001b[0m \u001b[0mclf\u001b[0m \u001b[1;33m=\u001b[0m \u001b[0mtree\u001b[0m\u001b[1;33m.\u001b[0m\u001b[0mDecisionTreeClassifier\u001b[0m\u001b[1;33m(\u001b[0m\u001b[1;33m)\u001b[0m\u001b[1;33m\u001b[0m\u001b[1;33m\u001b[0m\u001b[0m\n\u001b[1;32m----> 4\u001b[1;33m \u001b[0mclf\u001b[0m \u001b[1;33m=\u001b[0m \u001b[0mclf\u001b[0m\u001b[1;33m.\u001b[0m\u001b[0mfit\u001b[0m\u001b[1;33m(\u001b[0m\u001b[0mtrain_texts\u001b[0m\u001b[1;33m,\u001b[0m \u001b[0mtrain_labels\u001b[0m\u001b[1;33m)\u001b[0m\u001b[1;33m\u001b[0m\u001b[1;33m\u001b[0m\u001b[0m\n\u001b[0m\u001b[0;32m      5\u001b[0m \u001b[0mres_pred\u001b[0m \u001b[1;33m=\u001b[0m \u001b[0mclf\u001b[0m\u001b[1;33m.\u001b[0m\u001b[0mpredict\u001b[0m\u001b[1;33m(\u001b[0m\u001b[0mval_texts\u001b[0m\u001b[1;33m)\u001b[0m\u001b[1;33m\u001b[0m\u001b[1;33m\u001b[0m\u001b[0m\n\u001b[0;32m      6\u001b[0m \u001b[0mscore\u001b[0m \u001b[1;33m=\u001b[0m \u001b[0maccuracy_score\u001b[0m\u001b[1;33m(\u001b[0m\u001b[0mres_labels\u001b[0m\u001b[1;33m,\u001b[0m \u001b[0mres_pred\u001b[0m\u001b[1;33m)\u001b[0m\u001b[1;33m\u001b[0m\u001b[1;33m\u001b[0m\u001b[0m\n",
      "\u001b[1;32m~\\anaconda3\\envs\\juplab\\lib\\site-packages\\sklearn\\tree\\_classes.py\u001b[0m in \u001b[0;36mfit\u001b[1;34m(self, X, y, sample_weight, check_input, X_idx_sorted)\u001b[0m\n\u001b[0;32m    905\u001b[0m             \u001b[0msample_weight\u001b[0m\u001b[1;33m=\u001b[0m\u001b[0msample_weight\u001b[0m\u001b[1;33m,\u001b[0m\u001b[1;33m\u001b[0m\u001b[1;33m\u001b[0m\u001b[0m\n\u001b[0;32m    906\u001b[0m             \u001b[0mcheck_input\u001b[0m\u001b[1;33m=\u001b[0m\u001b[0mcheck_input\u001b[0m\u001b[1;33m,\u001b[0m\u001b[1;33m\u001b[0m\u001b[1;33m\u001b[0m\u001b[0m\n\u001b[1;32m--> 907\u001b[1;33m             X_idx_sorted=X_idx_sorted)\n\u001b[0m\u001b[0;32m    908\u001b[0m         \u001b[1;32mreturn\u001b[0m \u001b[0mself\u001b[0m\u001b[1;33m\u001b[0m\u001b[1;33m\u001b[0m\u001b[0m\n\u001b[0;32m    909\u001b[0m \u001b[1;33m\u001b[0m\u001b[0m\n",
      "\u001b[1;32m~\\anaconda3\\envs\\juplab\\lib\\site-packages\\sklearn\\tree\\_classes.py\u001b[0m in \u001b[0;36mfit\u001b[1;34m(self, X, y, sample_weight, check_input, X_idx_sorted)\u001b[0m\n\u001b[0;32m    157\u001b[0m             X, y = self._validate_data(X, y,\n\u001b[0;32m    158\u001b[0m                                        validate_separately=(check_X_params,\n\u001b[1;32m--> 159\u001b[1;33m                                                             check_y_params))\n\u001b[0m\u001b[0;32m    160\u001b[0m             \u001b[1;32mif\u001b[0m \u001b[0missparse\u001b[0m\u001b[1;33m(\u001b[0m\u001b[0mX\u001b[0m\u001b[1;33m)\u001b[0m\u001b[1;33m:\u001b[0m\u001b[1;33m\u001b[0m\u001b[1;33m\u001b[0m\u001b[0m\n\u001b[0;32m    161\u001b[0m                 \u001b[0mX\u001b[0m\u001b[1;33m.\u001b[0m\u001b[0msort_indices\u001b[0m\u001b[1;33m(\u001b[0m\u001b[1;33m)\u001b[0m\u001b[1;33m\u001b[0m\u001b[1;33m\u001b[0m\u001b[0m\n",
      "\u001b[1;32m~\\anaconda3\\envs\\juplab\\lib\\site-packages\\sklearn\\base.py\u001b[0m in \u001b[0;36m_validate_data\u001b[1;34m(self, X, y, reset, validate_separately, **check_params)\u001b[0m\n\u001b[0;32m    428\u001b[0m                 \u001b[1;31m# :(\u001b[0m\u001b[1;33m\u001b[0m\u001b[1;33m\u001b[0m\u001b[1;33m\u001b[0m\u001b[0m\n\u001b[0;32m    429\u001b[0m                 \u001b[0mcheck_X_params\u001b[0m\u001b[1;33m,\u001b[0m \u001b[0mcheck_y_params\u001b[0m \u001b[1;33m=\u001b[0m \u001b[0mvalidate_separately\u001b[0m\u001b[1;33m\u001b[0m\u001b[1;33m\u001b[0m\u001b[0m\n\u001b[1;32m--> 430\u001b[1;33m                 \u001b[0mX\u001b[0m \u001b[1;33m=\u001b[0m \u001b[0mcheck_array\u001b[0m\u001b[1;33m(\u001b[0m\u001b[0mX\u001b[0m\u001b[1;33m,\u001b[0m \u001b[1;33m**\u001b[0m\u001b[0mcheck_X_params\u001b[0m\u001b[1;33m)\u001b[0m\u001b[1;33m\u001b[0m\u001b[1;33m\u001b[0m\u001b[0m\n\u001b[0m\u001b[0;32m    431\u001b[0m                 \u001b[0my\u001b[0m \u001b[1;33m=\u001b[0m \u001b[0mcheck_array\u001b[0m\u001b[1;33m(\u001b[0m\u001b[0my\u001b[0m\u001b[1;33m,\u001b[0m \u001b[1;33m**\u001b[0m\u001b[0mcheck_y_params\u001b[0m\u001b[1;33m)\u001b[0m\u001b[1;33m\u001b[0m\u001b[1;33m\u001b[0m\u001b[0m\n\u001b[0;32m    432\u001b[0m             \u001b[1;32melse\u001b[0m\u001b[1;33m:\u001b[0m\u001b[1;33m\u001b[0m\u001b[1;33m\u001b[0m\u001b[0m\n",
      "\u001b[1;32m~\\anaconda3\\envs\\juplab\\lib\\site-packages\\sklearn\\utils\\validation.py\u001b[0m in \u001b[0;36minner_f\u001b[1;34m(*args, **kwargs)\u001b[0m\n\u001b[0;32m     61\u001b[0m             \u001b[0mextra_args\u001b[0m \u001b[1;33m=\u001b[0m \u001b[0mlen\u001b[0m\u001b[1;33m(\u001b[0m\u001b[0margs\u001b[0m\u001b[1;33m)\u001b[0m \u001b[1;33m-\u001b[0m \u001b[0mlen\u001b[0m\u001b[1;33m(\u001b[0m\u001b[0mall_args\u001b[0m\u001b[1;33m)\u001b[0m\u001b[1;33m\u001b[0m\u001b[1;33m\u001b[0m\u001b[0m\n\u001b[0;32m     62\u001b[0m             \u001b[1;32mif\u001b[0m \u001b[0mextra_args\u001b[0m \u001b[1;33m<=\u001b[0m \u001b[1;36m0\u001b[0m\u001b[1;33m:\u001b[0m\u001b[1;33m\u001b[0m\u001b[1;33m\u001b[0m\u001b[0m\n\u001b[1;32m---> 63\u001b[1;33m                 \u001b[1;32mreturn\u001b[0m \u001b[0mf\u001b[0m\u001b[1;33m(\u001b[0m\u001b[1;33m*\u001b[0m\u001b[0margs\u001b[0m\u001b[1;33m,\u001b[0m \u001b[1;33m**\u001b[0m\u001b[0mkwargs\u001b[0m\u001b[1;33m)\u001b[0m\u001b[1;33m\u001b[0m\u001b[1;33m\u001b[0m\u001b[0m\n\u001b[0m\u001b[0;32m     64\u001b[0m \u001b[1;33m\u001b[0m\u001b[0m\n\u001b[0;32m     65\u001b[0m             \u001b[1;31m# extra_args > 0\u001b[0m\u001b[1;33m\u001b[0m\u001b[1;33m\u001b[0m\u001b[1;33m\u001b[0m\u001b[0m\n",
      "\u001b[1;32m~\\anaconda3\\envs\\juplab\\lib\\site-packages\\sklearn\\utils\\validation.py\u001b[0m in \u001b[0;36mcheck_array\u001b[1;34m(array, accept_sparse, accept_large_sparse, dtype, order, copy, force_all_finite, ensure_2d, allow_nd, ensure_min_samples, ensure_min_features, estimator)\u001b[0m\n\u001b[0;32m    671\u001b[0m                     \u001b[0marray\u001b[0m \u001b[1;33m=\u001b[0m \u001b[0marray\u001b[0m\u001b[1;33m.\u001b[0m\u001b[0mastype\u001b[0m\u001b[1;33m(\u001b[0m\u001b[0mdtype\u001b[0m\u001b[1;33m,\u001b[0m \u001b[0mcasting\u001b[0m\u001b[1;33m=\u001b[0m\u001b[1;34m\"unsafe\"\u001b[0m\u001b[1;33m,\u001b[0m \u001b[0mcopy\u001b[0m\u001b[1;33m=\u001b[0m\u001b[1;32mFalse\u001b[0m\u001b[1;33m)\u001b[0m\u001b[1;33m\u001b[0m\u001b[1;33m\u001b[0m\u001b[0m\n\u001b[0;32m    672\u001b[0m                 \u001b[1;32melse\u001b[0m\u001b[1;33m:\u001b[0m\u001b[1;33m\u001b[0m\u001b[1;33m\u001b[0m\u001b[0m\n\u001b[1;32m--> 673\u001b[1;33m                     \u001b[0marray\u001b[0m \u001b[1;33m=\u001b[0m \u001b[0mnp\u001b[0m\u001b[1;33m.\u001b[0m\u001b[0masarray\u001b[0m\u001b[1;33m(\u001b[0m\u001b[0marray\u001b[0m\u001b[1;33m,\u001b[0m \u001b[0morder\u001b[0m\u001b[1;33m=\u001b[0m\u001b[0morder\u001b[0m\u001b[1;33m,\u001b[0m \u001b[0mdtype\u001b[0m\u001b[1;33m=\u001b[0m\u001b[0mdtype\u001b[0m\u001b[1;33m)\u001b[0m\u001b[1;33m\u001b[0m\u001b[1;33m\u001b[0m\u001b[0m\n\u001b[0m\u001b[0;32m    674\u001b[0m             \u001b[1;32mexcept\u001b[0m \u001b[0mComplexWarning\u001b[0m \u001b[1;32mas\u001b[0m \u001b[0mcomplex_warning\u001b[0m\u001b[1;33m:\u001b[0m\u001b[1;33m\u001b[0m\u001b[1;33m\u001b[0m\u001b[0m\n\u001b[0;32m    675\u001b[0m                 raise ValueError(\"Complex data not supported\\n\"\n",
      "\u001b[1;32m~\\anaconda3\\envs\\juplab\\lib\\site-packages\\numpy\\core\\_asarray.py\u001b[0m in \u001b[0;36masarray\u001b[1;34m(a, dtype, order)\u001b[0m\n\u001b[0;32m     81\u001b[0m \u001b[1;33m\u001b[0m\u001b[0m\n\u001b[0;32m     82\u001b[0m     \"\"\"\n\u001b[1;32m---> 83\u001b[1;33m     \u001b[1;32mreturn\u001b[0m \u001b[0marray\u001b[0m\u001b[1;33m(\u001b[0m\u001b[0ma\u001b[0m\u001b[1;33m,\u001b[0m \u001b[0mdtype\u001b[0m\u001b[1;33m,\u001b[0m \u001b[0mcopy\u001b[0m\u001b[1;33m=\u001b[0m\u001b[1;32mFalse\u001b[0m\u001b[1;33m,\u001b[0m \u001b[0morder\u001b[0m\u001b[1;33m=\u001b[0m\u001b[0morder\u001b[0m\u001b[1;33m)\u001b[0m\u001b[1;33m\u001b[0m\u001b[1;33m\u001b[0m\u001b[0m\n\u001b[0m\u001b[0;32m     84\u001b[0m \u001b[1;33m\u001b[0m\u001b[0m\n\u001b[0;32m     85\u001b[0m \u001b[1;33m\u001b[0m\u001b[0m\n",
      "\u001b[1;32m~\\anaconda3\\envs\\juplab\\lib\\site-packages\\pandas\\core\\series.py\u001b[0m in \u001b[0;36m__array__\u001b[1;34m(self, dtype)\u001b[0m\n\u001b[0;32m    795\u001b[0m               dtype='datetime64[ns]')\n\u001b[0;32m    796\u001b[0m         \"\"\"\n\u001b[1;32m--> 797\u001b[1;33m         \u001b[1;32mreturn\u001b[0m \u001b[0mnp\u001b[0m\u001b[1;33m.\u001b[0m\u001b[0masarray\u001b[0m\u001b[1;33m(\u001b[0m\u001b[0mself\u001b[0m\u001b[1;33m.\u001b[0m\u001b[0marray\u001b[0m\u001b[1;33m,\u001b[0m \u001b[0mdtype\u001b[0m\u001b[1;33m)\u001b[0m\u001b[1;33m\u001b[0m\u001b[1;33m\u001b[0m\u001b[0m\n\u001b[0m\u001b[0;32m    798\u001b[0m \u001b[1;33m\u001b[0m\u001b[0m\n\u001b[0;32m    799\u001b[0m     \u001b[1;31m# ----------------------------------------------------------------------\u001b[0m\u001b[1;33m\u001b[0m\u001b[1;33m\u001b[0m\u001b[1;33m\u001b[0m\u001b[0m\n",
      "\u001b[1;32m~\\anaconda3\\envs\\juplab\\lib\\site-packages\\numpy\\core\\_asarray.py\u001b[0m in \u001b[0;36masarray\u001b[1;34m(a, dtype, order)\u001b[0m\n\u001b[0;32m     81\u001b[0m \u001b[1;33m\u001b[0m\u001b[0m\n\u001b[0;32m     82\u001b[0m     \"\"\"\n\u001b[1;32m---> 83\u001b[1;33m     \u001b[1;32mreturn\u001b[0m \u001b[0marray\u001b[0m\u001b[1;33m(\u001b[0m\u001b[0ma\u001b[0m\u001b[1;33m,\u001b[0m \u001b[0mdtype\u001b[0m\u001b[1;33m,\u001b[0m \u001b[0mcopy\u001b[0m\u001b[1;33m=\u001b[0m\u001b[1;32mFalse\u001b[0m\u001b[1;33m,\u001b[0m \u001b[0morder\u001b[0m\u001b[1;33m=\u001b[0m\u001b[0morder\u001b[0m\u001b[1;33m)\u001b[0m\u001b[1;33m\u001b[0m\u001b[1;33m\u001b[0m\u001b[0m\n\u001b[0m\u001b[0;32m     84\u001b[0m \u001b[1;33m\u001b[0m\u001b[0m\n\u001b[0;32m     85\u001b[0m \u001b[1;33m\u001b[0m\u001b[0m\n",
      "\u001b[1;32m~\\anaconda3\\envs\\juplab\\lib\\site-packages\\pandas\\core\\arrays\\numpy_.py\u001b[0m in \u001b[0;36m__array__\u001b[1;34m(self, dtype)\u001b[0m\n\u001b[0;32m    209\u001b[0m \u001b[1;33m\u001b[0m\u001b[0m\n\u001b[0;32m    210\u001b[0m     \u001b[1;32mdef\u001b[0m \u001b[0m__array__\u001b[0m\u001b[1;33m(\u001b[0m\u001b[0mself\u001b[0m\u001b[1;33m,\u001b[0m \u001b[0mdtype\u001b[0m\u001b[1;33m=\u001b[0m\u001b[1;32mNone\u001b[0m\u001b[1;33m)\u001b[0m \u001b[1;33m->\u001b[0m \u001b[0mnp\u001b[0m\u001b[1;33m.\u001b[0m\u001b[0mndarray\u001b[0m\u001b[1;33m:\u001b[0m\u001b[1;33m\u001b[0m\u001b[1;33m\u001b[0m\u001b[0m\n\u001b[1;32m--> 211\u001b[1;33m         \u001b[1;32mreturn\u001b[0m \u001b[0mnp\u001b[0m\u001b[1;33m.\u001b[0m\u001b[0masarray\u001b[0m\u001b[1;33m(\u001b[0m\u001b[0mself\u001b[0m\u001b[1;33m.\u001b[0m\u001b[0m_ndarray\u001b[0m\u001b[1;33m,\u001b[0m \u001b[0mdtype\u001b[0m\u001b[1;33m=\u001b[0m\u001b[0mdtype\u001b[0m\u001b[1;33m)\u001b[0m\u001b[1;33m\u001b[0m\u001b[1;33m\u001b[0m\u001b[0m\n\u001b[0m\u001b[0;32m    212\u001b[0m \u001b[1;33m\u001b[0m\u001b[0m\n\u001b[0;32m    213\u001b[0m     \u001b[0m_HANDLED_TYPES\u001b[0m \u001b[1;33m=\u001b[0m \u001b[1;33m(\u001b[0m\u001b[0mnp\u001b[0m\u001b[1;33m.\u001b[0m\u001b[0mndarray\u001b[0m\u001b[1;33m,\u001b[0m \u001b[0mnumbers\u001b[0m\u001b[1;33m.\u001b[0m\u001b[0mNumber\u001b[0m\u001b[1;33m)\u001b[0m\u001b[1;33m\u001b[0m\u001b[1;33m\u001b[0m\u001b[0m\n",
      "\u001b[1;32m~\\anaconda3\\envs\\juplab\\lib\\site-packages\\numpy\\core\\_asarray.py\u001b[0m in \u001b[0;36masarray\u001b[1;34m(a, dtype, order)\u001b[0m\n\u001b[0;32m     81\u001b[0m \u001b[1;33m\u001b[0m\u001b[0m\n\u001b[0;32m     82\u001b[0m     \"\"\"\n\u001b[1;32m---> 83\u001b[1;33m     \u001b[1;32mreturn\u001b[0m \u001b[0marray\u001b[0m\u001b[1;33m(\u001b[0m\u001b[0ma\u001b[0m\u001b[1;33m,\u001b[0m \u001b[0mdtype\u001b[0m\u001b[1;33m,\u001b[0m \u001b[0mcopy\u001b[0m\u001b[1;33m=\u001b[0m\u001b[1;32mFalse\u001b[0m\u001b[1;33m,\u001b[0m \u001b[0morder\u001b[0m\u001b[1;33m=\u001b[0m\u001b[0morder\u001b[0m\u001b[1;33m)\u001b[0m\u001b[1;33m\u001b[0m\u001b[1;33m\u001b[0m\u001b[0m\n\u001b[0m\u001b[0;32m     84\u001b[0m \u001b[1;33m\u001b[0m\u001b[0m\n\u001b[0;32m     85\u001b[0m \u001b[1;33m\u001b[0m\u001b[0m\n",
      "\u001b[1;31mValueError\u001b[0m: setting an array element with a sequence."
     ]
    }
   ],
   "source": [
    "train_texts, train_labels,val_texts, val_labels = split_vector_data(df_train)\n",
    "from sklearn import tree\n",
    "clf = tree.DecisionTreeClassifier()\n",
    "clf = clf.fit(train_texts, train_labels)\n",
    "res_pred = clf.predict(val_texts)\n",
    "score = accuracy_score(res_labels, res_pred)\n",
    "print('accuracy: ',score)"
   ]
  },
  {
   "cell_type": "code",
   "execution_count": 10,
   "id": "a2262d40-b7ed-4066-97be-d9677c32cb99",
   "metadata": {},
   "outputs": [],
   "source": [
    "import numpy as np\n",
    "import spacy\n",
    "from sklearn.svm import LinearSVC\n",
    "from sklearn.model_selection import train_test_split\n",
    "clean_data(df_train)\n",
    "# Need to load the large model to get the vectors\n"
   ]
  },
  {
   "cell_type": "code",
   "execution_count": 11,
   "id": "d8a3e11a-bf62-4593-9ed0-7eb2493601d4",
   "metadata": {},
   "outputs": [
    {
     "data": {
      "text/html": [
       "<div>\n",
       "<style scoped>\n",
       "    .dataframe tbody tr th:only-of-type {\n",
       "        vertical-align: middle;\n",
       "    }\n",
       "\n",
       "    .dataframe tbody tr th {\n",
       "        vertical-align: top;\n",
       "    }\n",
       "\n",
       "    .dataframe thead th {\n",
       "        text-align: right;\n",
       "    }\n",
       "</style>\n",
       "<table border=\"1\" class=\"dataframe\">\n",
       "  <thead>\n",
       "    <tr style=\"text-align: right;\">\n",
       "      <th></th>\n",
       "      <th>id</th>\n",
       "      <th>keyword</th>\n",
       "      <th>text</th>\n",
       "      <th>target</th>\n",
       "      <th>lemma_text</th>\n",
       "      <th>vector_text</th>\n",
       "    </tr>\n",
       "  </thead>\n",
       "  <tbody>\n",
       "    <tr>\n",
       "      <th>31</th>\n",
       "      <td>48</td>\n",
       "      <td>ablaze</td>\n",
       "      <td>ablaze  Wholesale Markets ablaze</td>\n",
       "      <td>1</td>\n",
       "      <td>ablaze   Wholesale Markets ablaze</td>\n",
       "      <td>[-0.0563236, 0.257118, 0.1955008, 0.0688708, 0.182452, -0.155606, 0.113748, 0.35473198, -0.1426564, 1.160272, -0.07376599, -0.29792398, -0.099010006, -0.27831, -0.09935601, -0.11009719, 0.32681003, 0.807452, 0.22835799, -0.09993, -0.065302, 0.036398, 0.005114003, -0.042065807, 0.09796201, 0.14403799, -0.307568, 0.123176, -0.014593994, -0.015843997, -0.012040001, -0.07972039, -0.20578401, 0.09755139, -0.036065996, 0.0068355976, 0.18506669, 0.144444, 0.14343621, 0.0418124, 0.022623003, 0.0041340007, 0.24607602, -0.22774442, 0.05598221, 0.0065254, 0.056873996, -0.178454, -0.1993216, 0.161984, 0.063133396, 0.2606274, -0.028442722, 0.25649, 0.16508639, -0.12415598, -0.333006, 0.088394, -0.011596799, -0.19837399, -0.089459196, -0.16033998, -0.004598403, -0.030435601, -0.06268401, -0.1724724, 0.2821346, -0.09074, 0.106261395, -0.110604204, 0.1158576, -0.17723, -0.14292601, 0.214138, 0.145776, 0.0128617585, 0.1582818, 0.031759597, 0.025170002, -0.090425596, 0.048223794, 0.202898, -0.1456964, -0.062476397, 0.15210919, 0.15843621, 0.10579141, 0.59602606, -0.039108, 0.1184654, -0.04655268, -0.0051670047, 0.32464108, -0.191902, 0.0020141988, 0.0587912, -0.11395688, 0.18360801, -0.114694, -0.1219092, ...]</td>\n",
       "    </tr>\n",
       "    <tr>\n",
       "      <th>32</th>\n",
       "      <td>49</td>\n",
       "      <td>ablaze</td>\n",
       "      <td>ablaze We always try to bring the heavy   metal  RT</td>\n",
       "      <td>0</td>\n",
       "      <td>ablaze we always try to bring the heavy    metal   RT</td>\n",
       "      <td>[0.045223314, 0.1333939, -0.050343323, 0.08015067, 0.058838334, -0.0554654, -0.018545, 0.08634857, -0.051001832, 1.5571651, -0.10734125, -0.10247001, 0.13837694, 0.029538453, -0.079866245, -0.13390766, 0.044125587, 1.0139709, -0.1453875, 0.029887335, 0.09791225, -0.0023505837, -0.044185847, -0.060278002, -0.06502458, 0.016685084, -0.10645178, -0.074082986, 0.099368095, -0.07184333, 0.007993648, 0.0489028, -0.105595164, 0.121057004, 0.11047691, -0.023924187, 0.1304792, 0.09394637, 0.026132086, -0.04840246, -0.032212753, 0.023670083, -0.023923248, -0.19602084, 0.076127246, -0.04462072, 0.029789248, -0.10485867, -0.105620354, 0.07480307, 0.021529667, 0.101172, 0.09638619, 0.11223215, 0.029637339, 0.018065736, -0.16108476, -0.026385665, -0.051710915, -0.055401, -0.13327457, -0.04083883, -0.10042878, 0.14891459, 0.06408292, -0.06431223, 0.047274664, -0.042019755, 0.05255917, 0.059616495, -0.022005146, 0.0026573853, 0.110539995, 0.0010725869, 0.20260318, 0.01784075, 0.04255783, 0.009275745, -0.040025167, 0.0037872486, 0.018847583, 0.033973992, -0.23186707, -0.04028337, 0.10116502, -0.115347445, 0.037151914, 0.122359686, 0.1257649, 0.035692245, -0.072939165, -0.09851825, 0.08350283, 0.1036765, 0.012105833, 0.085228, 0.04201318, 0.017549252, -0.031674832, 0.004940662, ...]</td>\n",
       "    </tr>\n",
       "    <tr>\n",
       "      <th>33</th>\n",
       "      <td>50</td>\n",
       "      <td>ablaze</td>\n",
       "      <td>ablaze  AFRICANBAZE  Breaking news Nigeria flag set ablaze in Aba</td>\n",
       "      <td>1</td>\n",
       "      <td>ablaze   AFRICANBAZE   break news Nigeria flag set ablaze in Aba</td>\n",
       "      <td>[0.013710539, 0.14963509, 0.1158237, -0.021470385, -0.015969686, -0.08640769, -0.017800616, 0.11728731, -0.08619977, 1.017307, -0.15669984, -0.17209195, 0.0132249985, -0.039106157, -0.07251846, 0.004347696, 0.16670431, 0.5195946, 0.13820623, -0.13763155, -0.04797069, 0.014259151, 0.14222346, -0.041423623, 0.08688776, -0.04426492, -0.09938362, 0.13981031, 0.12833564, 0.0698008, 0.02618777, 0.0046466915, -0.07892693, 0.17477046, 0.059629228, 0.03305077, 0.022554385, 0.16193262, -0.033037618, -0.02115508, 0.10090612, 0.0062303073, 0.080808386, -0.07174353, -0.011538084, -0.10158007, 0.098384224, -0.04438454, -0.171915, -0.0044546905, -0.09982138, -0.027612928, -0.039756425, 0.029415388, -0.057097398, 0.009407693, 0.037795153, 0.053968847, 0.1611676, -0.06302346, -0.11900708, 0.120851554, -0.027273927, -0.030337691, 0.019895535, 0.014181694, 0.014484333, 0.0007102306, 0.12199794, 0.06954709, -0.03853, 0.010639996, 0.031774845, -0.08349548, 0.12122769, -0.0054409276, 0.029222231, -0.02278946, 0.051309228, 0.05586761, -0.05128553, 0.19871166, -0.034725077, 0.106526166, 0.12809578, 0.09827346, 0.17790054, 0.041525695, 0.054549996, 0.02161969, -0.10107393, -0.012843907, 0.055861536, -0.14940824, 0.09644616, -0.02239723, -0.026017278, 0.017880846, 0.025325079, -0.1365313, ...]</td>\n",
       "    </tr>\n",
       "    <tr>\n",
       "      <th>34</th>\n",
       "      <td>52</td>\n",
       "      <td>ablaze</td>\n",
       "      <td>ablaze Crying out for more  Set me ablaze</td>\n",
       "      <td>0</td>\n",
       "      <td>ablaze cry out for more   set I ablaze</td>\n",
       "      <td>[-0.08995756, 0.11759244, -0.08122, -0.029197553, -0.006869993, -0.19197613, 0.0754507, 0.10767313, -0.11243746, 1.7843889, -0.008387334, 0.008158041, -0.11804488, -0.2459089, -0.2356178, 0.010067667, 0.17390192, 0.7425306, -0.04697856, -0.12515357, -0.059702232, -0.027122777, -0.0547698, -0.060813565, 0.036551777, 0.06768833, -0.045341447, 0.016913222, 0.19880466, -0.23925011, -0.023427509, 0.046070002, -0.15035106, 0.13557723, 0.17509556, -0.07507956, 0.022524223, 0.17192912, 0.031884268, 0.031574003, 0.099027775, 0.052810665, -0.043464445, -0.18416223, 0.009930447, 0.05300531, -0.039858446, 0.041764442, -0.106243335, 0.054790888, -0.16168256, 0.09312722, 0.0098546045, 0.1635192, -0.013276803, 0.0555374, -0.19980022, 0.08922422, 0.046698555, -0.041246668, -0.043917555, 0.08258178, -0.14845222, -0.021393783, 0.10539889, -0.10816121, 0.12860855, -0.031298444, 0.06115456, 0.05544467, 0.12901677, -0.123196214, 0.13539334, -0.021527328, 0.19005497, 0.067581445, 0.33387244, -0.08747199, 0.050218448, 0.0034977794, -0.082274675, 0.23823884, -0.19380924, -0.079814665, 0.16406454, 0.046545222, 0.1711489, -0.11480966, 0.24497999, 0.13508691, -0.19227445, -0.012764226, 0.14634188, -0.02571266, -0.06490355, 0.075043336, -0.038724624, 0.0054678884, 0.017896777, -0.120978445, ...]</td>\n",
       "    </tr>\n",
       "    <tr>\n",
       "      <th>35</th>\n",
       "      <td>53</td>\n",
       "      <td>ablaze</td>\n",
       "      <td>ablaze On plus side LOOK AT THE SKY LAST NIGHT IT WAS ABLAZE</td>\n",
       "      <td>0</td>\n",
       "      <td>ablaze on plus side look at the sky last night IT be ABLAZE</td>\n",
       "      <td>[0.032484073, 0.1740431, 0.033485074, -0.0036149188, -0.0013422164, -0.046681523, -0.08786322, 0.032194097, -0.13592847, 2.2008386, -0.034301404, -0.044110376, -0.031158956, -0.13417497, -0.13369201, -0.002500386, 0.07098547, 1.0166038, -0.08283892, -0.24428834, -0.055191737, -0.032442153, 0.02083176, 0.10574408, 0.085134074, 0.059678383, -0.1422994, -0.03057, 0.1183076, 0.00033086882, 0.039395873, 0.06378786, -0.11910617, 0.16017283, -0.13483231, 0.04957923, -0.14016654, 0.19692527, -0.041626267, -0.03492546, 0.030270616, 0.06749431, -0.025826113, -0.033653904, 0.14616455, 0.08231422, -0.15882176, -0.16421422, -0.07912915, 0.10046678, 0.0635812, 0.21464816, -0.03167212, 0.1419592, -0.029285006, -0.0012090765, -0.07295223, 0.03591076, 0.021291535, -0.1360579, 0.017315766, -0.074611075, 0.018184615, 0.21039301, -0.036654234, -0.03249577, 0.018010924, -0.077152774, 0.10598707, 0.12190127, 0.15172495, -0.08535262, 0.09415731, 0.12827902, 0.08414377, -0.015140036, 0.13363153, -0.099028386, -0.18793562, 0.028882911, -0.06927308, 0.15690023, -0.06538077, 0.10850138, 0.20292701, -0.07926167, 0.15254492, 0.011496549, 0.18989514, 0.120457225, -0.079798974, 0.0676493, 0.090242386, -0.02781092, 0.11697939, -0.027646612, 0.027552454, 0.050137963, 0.14073277, 0.062165543, ...]</td>\n",
       "    </tr>\n",
       "  </tbody>\n",
       "</table>\n",
       "</div>"
      ],
      "text/plain": [
       "    id keyword  \\\n",
       "31  48  ablaze   \n",
       "32  49  ablaze   \n",
       "33  50  ablaze   \n",
       "34  52  ablaze   \n",
       "35  53  ablaze   \n",
       "\n",
       "                                                                   text  \\\n",
       "31                                    ablaze  Wholesale Markets ablaze    \n",
       "32                 ablaze We always try to bring the heavy   metal  RT    \n",
       "33  ablaze  AFRICANBAZE  Breaking news Nigeria flag set ablaze in Aba     \n",
       "34                            ablaze Crying out for more  Set me ablaze   \n",
       "35        ablaze On plus side LOOK AT THE SKY LAST NIGHT IT WAS ABLAZE    \n",
       "\n",
       "    target  \\\n",
       "31       1   \n",
       "32       0   \n",
       "33       1   \n",
       "34       0   \n",
       "35       0   \n",
       "\n",
       "                                                            lemma_text  \\\n",
       "31                                   ablaze   Wholesale Markets ablaze   \n",
       "32               ablaze we always try to bring the heavy    metal   RT   \n",
       "33  ablaze   AFRICANBAZE   break news Nigeria flag set ablaze in Aba     \n",
       "34                              ablaze cry out for more   set I ablaze   \n",
       "35         ablaze on plus side look at the sky last night IT be ABLAZE   \n",
       "\n",
       "                                                                                                                                                                                                                                                                                                                                                                                                                                                                                                                                                                                                                                                                                                                                                                                                                                                                                                                                                                                                                                                                                                                                                                                                                                                                                                                                 vector_text  \n",
       "31                                                                               [-0.0563236, 0.257118, 0.1955008, 0.0688708, 0.182452, -0.155606, 0.113748, 0.35473198, -0.1426564, 1.160272, -0.07376599, -0.29792398, -0.099010006, -0.27831, -0.09935601, -0.11009719, 0.32681003, 0.807452, 0.22835799, -0.09993, -0.065302, 0.036398, 0.005114003, -0.042065807, 0.09796201, 0.14403799, -0.307568, 0.123176, -0.014593994, -0.015843997, -0.012040001, -0.07972039, -0.20578401, 0.09755139, -0.036065996, 0.0068355976, 0.18506669, 0.144444, 0.14343621, 0.0418124, 0.022623003, 0.0041340007, 0.24607602, -0.22774442, 0.05598221, 0.0065254, 0.056873996, -0.178454, -0.1993216, 0.161984, 0.063133396, 0.2606274, -0.028442722, 0.25649, 0.16508639, -0.12415598, -0.333006, 0.088394, -0.011596799, -0.19837399, -0.089459196, -0.16033998, -0.004598403, -0.030435601, -0.06268401, -0.1724724, 0.2821346, -0.09074, 0.106261395, -0.110604204, 0.1158576, -0.17723, -0.14292601, 0.214138, 0.145776, 0.0128617585, 0.1582818, 0.031759597, 0.025170002, -0.090425596, 0.048223794, 0.202898, -0.1456964, -0.062476397, 0.15210919, 0.15843621, 0.10579141, 0.59602606, -0.039108, 0.1184654, -0.04655268, -0.0051670047, 0.32464108, -0.191902, 0.0020141988, 0.0587912, -0.11395688, 0.18360801, -0.114694, -0.1219092, ...]  \n",
       "32     [0.045223314, 0.1333939, -0.050343323, 0.08015067, 0.058838334, -0.0554654, -0.018545, 0.08634857, -0.051001832, 1.5571651, -0.10734125, -0.10247001, 0.13837694, 0.029538453, -0.079866245, -0.13390766, 0.044125587, 1.0139709, -0.1453875, 0.029887335, 0.09791225, -0.0023505837, -0.044185847, -0.060278002, -0.06502458, 0.016685084, -0.10645178, -0.074082986, 0.099368095, -0.07184333, 0.007993648, 0.0489028, -0.105595164, 0.121057004, 0.11047691, -0.023924187, 0.1304792, 0.09394637, 0.026132086, -0.04840246, -0.032212753, 0.023670083, -0.023923248, -0.19602084, 0.076127246, -0.04462072, 0.029789248, -0.10485867, -0.105620354, 0.07480307, 0.021529667, 0.101172, 0.09638619, 0.11223215, 0.029637339, 0.018065736, -0.16108476, -0.026385665, -0.051710915, -0.055401, -0.13327457, -0.04083883, -0.10042878, 0.14891459, 0.06408292, -0.06431223, 0.047274664, -0.042019755, 0.05255917, 0.059616495, -0.022005146, 0.0026573853, 0.110539995, 0.0010725869, 0.20260318, 0.01784075, 0.04255783, 0.009275745, -0.040025167, 0.0037872486, 0.018847583, 0.033973992, -0.23186707, -0.04028337, 0.10116502, -0.115347445, 0.037151914, 0.122359686, 0.1257649, 0.035692245, -0.072939165, -0.09851825, 0.08350283, 0.1036765, 0.012105833, 0.085228, 0.04201318, 0.017549252, -0.031674832, 0.004940662, ...]  \n",
       "33  [0.013710539, 0.14963509, 0.1158237, -0.021470385, -0.015969686, -0.08640769, -0.017800616, 0.11728731, -0.08619977, 1.017307, -0.15669984, -0.17209195, 0.0132249985, -0.039106157, -0.07251846, 0.004347696, 0.16670431, 0.5195946, 0.13820623, -0.13763155, -0.04797069, 0.014259151, 0.14222346, -0.041423623, 0.08688776, -0.04426492, -0.09938362, 0.13981031, 0.12833564, 0.0698008, 0.02618777, 0.0046466915, -0.07892693, 0.17477046, 0.059629228, 0.03305077, 0.022554385, 0.16193262, -0.033037618, -0.02115508, 0.10090612, 0.0062303073, 0.080808386, -0.07174353, -0.011538084, -0.10158007, 0.098384224, -0.04438454, -0.171915, -0.0044546905, -0.09982138, -0.027612928, -0.039756425, 0.029415388, -0.057097398, 0.009407693, 0.037795153, 0.053968847, 0.1611676, -0.06302346, -0.11900708, 0.120851554, -0.027273927, -0.030337691, 0.019895535, 0.014181694, 0.014484333, 0.0007102306, 0.12199794, 0.06954709, -0.03853, 0.010639996, 0.031774845, -0.08349548, 0.12122769, -0.0054409276, 0.029222231, -0.02278946, 0.051309228, 0.05586761, -0.05128553, 0.19871166, -0.034725077, 0.106526166, 0.12809578, 0.09827346, 0.17790054, 0.041525695, 0.054549996, 0.02161969, -0.10107393, -0.012843907, 0.055861536, -0.14940824, 0.09644616, -0.02239723, -0.026017278, 0.017880846, 0.025325079, -0.1365313, ...]  \n",
       "34  [-0.08995756, 0.11759244, -0.08122, -0.029197553, -0.006869993, -0.19197613, 0.0754507, 0.10767313, -0.11243746, 1.7843889, -0.008387334, 0.008158041, -0.11804488, -0.2459089, -0.2356178, 0.010067667, 0.17390192, 0.7425306, -0.04697856, -0.12515357, -0.059702232, -0.027122777, -0.0547698, -0.060813565, 0.036551777, 0.06768833, -0.045341447, 0.016913222, 0.19880466, -0.23925011, -0.023427509, 0.046070002, -0.15035106, 0.13557723, 0.17509556, -0.07507956, 0.022524223, 0.17192912, 0.031884268, 0.031574003, 0.099027775, 0.052810665, -0.043464445, -0.18416223, 0.009930447, 0.05300531, -0.039858446, 0.041764442, -0.106243335, 0.054790888, -0.16168256, 0.09312722, 0.0098546045, 0.1635192, -0.013276803, 0.0555374, -0.19980022, 0.08922422, 0.046698555, -0.041246668, -0.043917555, 0.08258178, -0.14845222, -0.021393783, 0.10539889, -0.10816121, 0.12860855, -0.031298444, 0.06115456, 0.05544467, 0.12901677, -0.123196214, 0.13539334, -0.021527328, 0.19005497, 0.067581445, 0.33387244, -0.08747199, 0.050218448, 0.0034977794, -0.082274675, 0.23823884, -0.19380924, -0.079814665, 0.16406454, 0.046545222, 0.1711489, -0.11480966, 0.24497999, 0.13508691, -0.19227445, -0.012764226, 0.14634188, -0.02571266, -0.06490355, 0.075043336, -0.038724624, 0.0054678884, 0.017896777, -0.120978445, ...]  \n",
       "35      [0.032484073, 0.1740431, 0.033485074, -0.0036149188, -0.0013422164, -0.046681523, -0.08786322, 0.032194097, -0.13592847, 2.2008386, -0.034301404, -0.044110376, -0.031158956, -0.13417497, -0.13369201, -0.002500386, 0.07098547, 1.0166038, -0.08283892, -0.24428834, -0.055191737, -0.032442153, 0.02083176, 0.10574408, 0.085134074, 0.059678383, -0.1422994, -0.03057, 0.1183076, 0.00033086882, 0.039395873, 0.06378786, -0.11910617, 0.16017283, -0.13483231, 0.04957923, -0.14016654, 0.19692527, -0.041626267, -0.03492546, 0.030270616, 0.06749431, -0.025826113, -0.033653904, 0.14616455, 0.08231422, -0.15882176, -0.16421422, -0.07912915, 0.10046678, 0.0635812, 0.21464816, -0.03167212, 0.1419592, -0.029285006, -0.0012090765, -0.07295223, 0.03591076, 0.021291535, -0.1360579, 0.017315766, -0.074611075, 0.018184615, 0.21039301, -0.036654234, -0.03249577, 0.018010924, -0.077152774, 0.10598707, 0.12190127, 0.15172495, -0.08535262, 0.09415731, 0.12827902, 0.08414377, -0.015140036, 0.13363153, -0.099028386, -0.18793562, 0.028882911, -0.06927308, 0.15690023, -0.06538077, 0.10850138, 0.20292701, -0.07926167, 0.15254492, 0.011496549, 0.18989514, 0.120457225, -0.079798974, 0.0676493, 0.090242386, -0.02781092, 0.11697939, -0.027646612, 0.027552454, 0.050137963, 0.14073277, 0.062165543, ...]  "
      ]
     },
     "execution_count": 11,
     "metadata": {},
     "output_type": "execute_result"
    }
   ],
   "source": [
    "df_train.head()"
   ]
  },
  {
   "cell_type": "code",
   "execution_count": 12,
   "id": "f445c949-0444-47ca-ac64-44b22383cb8f",
   "metadata": {},
   "outputs": [],
   "source": [
    "nlp = spacy.load('en_core_web_lg')\n",
    "with nlp.disable_pipes():\n",
    "    doc_vectors = np.array([nlp(text).vector for text in df_train.lemma_text])\n",
    "    \n",
    "X_train, X_test, y_train, y_test = train_test_split(doc_vectors, df_train.target,\n",
    "                                                    test_size=0.1, random_state=1)"
   ]
  },
  {
   "cell_type": "code",
   "execution_count": 14,
   "id": "d7dbf576-b4fa-4be0-8380-779e189bdfe9",
   "metadata": {},
   "outputs": [
    {
     "name": "stdout",
     "output_type": "stream",
     "text": [
      "Accuracy: 76.984%\n"
     ]
    }
   ],
   "source": [
    "\n",
    "# Set dual=False to speed up training, and it's not needed\n",
    "svc = LinearSVC(random_state=1, dual=False)\n",
    "svc.fit(X_train, y_train)\n",
    "print(f\"Accuracy: {svc.score(X_test, y_test) * 100:.3f}%\", )"
   ]
  },
  {
   "cell_type": "markdown",
   "id": "4931f2ef-14f0-4d81-893e-ec1d6b46f1bf",
   "metadata": {},
   "source": [
    "Thats.. A LOT better than  40+% we got from text classifier\n",
    "Lets try other models to boost it up"
   ]
  },
  {
   "cell_type": "code",
   "execution_count": 24,
   "id": "c6382b14-15b6-4d1a-bd4a-8158ed2c003b",
   "metadata": {},
   "outputs": [
    {
     "name": "stdout",
     "output_type": "stream",
     "text": [
      "Accuracy: 79.630%\n"
     ]
    }
   ],
   "source": [
    "# Lets try other classifiers\n",
    "from sklearn.neural_network import MLPClassifier\n",
    "mlp = MLPClassifier(solver='adam', alpha=1e-5, hidden_layer_sizes=(50, 8, 1), random_state=1 , activation = 'relu')\n",
    "mlp.fit(X_train, y_train)\n",
    "print(f\"Accuracy: {mlp.score(X_test, y_test) * 100:.3f}%\", )"
   ]
  },
  {
   "cell_type": "markdown",
   "id": "2afd8256-bd97-48c5-9422-b7dd6c9eb01e",
   "metadata": {},
   "source": [
    "Some improvement, lets try out some other ones"
   ]
  },
  {
   "cell_type": "code",
   "execution_count": 25,
   "id": "8607b479-8798-4238-8502-68a8981f3c77",
   "metadata": {},
   "outputs": [
    {
     "name": "stdout",
     "output_type": "stream",
     "text": [
      "Accuracy: 76.058%\n"
     ]
    }
   ],
   "source": [
    "from sklearn.ensemble import RandomForestClassifier\n",
    "rfc = RandomForestClassifier(n_estimators=10)\n",
    "rfc.fit(X_train, y_train)\n",
    "print(f\"Accuracy: {rfc.score(X_test, y_test) * 100:.3f}%\", )"
   ]
  },
  {
   "cell_type": "code",
   "execution_count": 28,
   "id": "74a995e3-b004-4471-88eb-ce8ffd790f01",
   "metadata": {},
   "outputs": [
    {
     "name": "stdout",
     "output_type": "stream",
     "text": [
      "Accuracy: 75.397%\n"
     ]
    }
   ],
   "source": [
    "from sklearn.neighbors import KNeighborsClassifier\n",
    "neigh = KNeighborsClassifier(n_neighbors=2)\n",
    "neigh.fit(X_train, y_train)\n",
    "print(f\"Accuracy: {neigh.score(X_test, y_test) * 100:.3f}%\", )"
   ]
  },
  {
   "cell_type": "markdown",
   "id": "a3a67c1a-8b75-45ab-880c-e811db09097b",
   "metadata": {},
   "source": [
    "### Alright, it seems like a neural network gives the best results, so lets hypertune it and continue\n"
   ]
  },
  {
   "cell_type": "code",
   "execution_count": 36,
   "id": "c10a498f-72bb-4cf5-9e67-6553b817db55",
   "metadata": {},
   "outputs": [
    {
     "name": "stdout",
     "output_type": "stream",
     "text": [
      "best score: 0.8119487728866381 params: {'solver': 'adam', 'random_state': 0, 'max_iter': 1900, 'learning_rate_init': 1e-05, 'hidden_layer_sizes': (90, 10), 'alpha': 1e-09, 'activation': 'relu'}\n"
     ]
    }
   ],
   "source": [
    "from sklearn.model_selection import RandomizedSearchCV\n",
    "parameters = {'solver': ['sgd', 'adam'], 'activation':['identity','logistic','tanh','relu'], 'max_iter': [1000,1100,1200,1300,1400,1500,1600,1700,1800,1900,2000 ], 'alpha': 10.0 ** -np.arange(1, 10), 'hidden_layer_sizes':[\n",
    "        (10, 10), (20, 10), (30, 10),\n",
    "        (40, 10), (90, 10), (90, 30, 10) ,(50, 8,1) , (100, 50, 1) , (25, 5 ,1 )  # <-- added more neurons or layers\n",
    "    ], 'random_state':[0,1,2,3,4,5,6,7,8,9], 'learning_rate_init':[ 0.001, 0.0001, 0.00001] }\n",
    "\n",
    "\n",
    "mlp = MLPClassifier(solver='adam', alpha=1e-5, hidden_layer_sizes=(50, 8, 1), random_state=1 , activation = 'relu')\n",
    "rscv = RandomizedSearchCV(mlp, parameters, n_iter=500, scoring='accuracy', n_jobs=-1, random_state=1)\n",
    "search = rscv.fit(X_train,y_train)\n",
    "print('best score:' ,search.best_score_ , 'params:', search.best_params_)"
   ]
  },
  {
   "cell_type": "markdown",
   "id": "23a49be4-a9f7-4cca-8d4e-7a9535d9c67b",
   "metadata": {},
   "source": [
    "lets figure out  better hidden layer sizes"
   ]
  },
  {
   "cell_type": "code",
   "execution_count": 37,
   "id": "8cdde5c9-6a32-4ff7-8ad6-22e81fd53ee8",
   "metadata": {},
   "outputs": [
    {
     "name": "stdout",
     "output_type": "stream",
     "text": [
      "best score: 0.812390273990391 params: {'solver': 'adam', 'random_state': 0, 'max_iter': 1900, 'learning_rate_init': 1e-05, 'hidden_layer_sizes': (90, 10), 'alpha': 0.001, 'activation': 'relu'}\n"
     ]
    }
   ],
   "source": [
    "parameters = {'solver': ['adam'], 'activation':['relu'], 'max_iter': [1900 ], 'alpha': 10.0 ** -np.arange(1, 10), 'hidden_layer_sizes':[\n",
    "        (90, 15), (90, 5),\n",
    "        (100, 10), (90, 10), (80, 10)   # <-- added more neurons or layers\n",
    "    ], 'random_state':[0], 'learning_rate_init':[0.00001] }\n",
    "\n",
    "\n",
    "mlp = MLPClassifier(solver='adam', alpha=1e-5, hidden_layer_sizes=(50, 8, 1), random_state=1 , activation = 'relu')\n",
    "rscv = RandomizedSearchCV(mlp, parameters, n_iter=500, scoring='accuracy', n_jobs=-1, random_state=1)\n",
    "search = rscv.fit(X_train,y_train)\n",
    "print('best score:' ,search.best_score_ , 'params:', search.best_params_)"
   ]
  },
  {
   "cell_type": "code",
   "execution_count": 39,
   "id": "76a6e387-2426-4b39-82cc-4df485ed0586",
   "metadata": {},
   "outputs": [
    {
     "name": "stdout",
     "output_type": "stream",
     "text": [
      "Accuracy: 80.026%\n"
     ]
    }
   ],
   "source": [
    "mlp = MLPClassifier(solver='adam', learning_rate_init=1e-5, hidden_layer_sizes=(90,10), random_state= 0  , activation = 'relu',max_iter = 1900,alpha = 0.001)\n",
    "mlp.fit(X_train, y_train)\n",
    "print(f\"Accuracy: {mlp.score(X_test, y_test) * 100:.3f}%\", )"
   ]
  },
  {
   "cell_type": "markdown",
   "id": "590c2e6e-bc8b-4d26-8a18-0089975d00ed",
   "metadata": {},
   "source": [
    "looks like this is the best we can do with this so lets retrain with the whole model\\\n",
    "First we must prep our test data\n"
   ]
  },
  {
   "cell_type": "code",
   "execution_count": 46,
   "id": "ed286b0c-93e3-4d12-8220-f1b48c8890b0",
   "metadata": {},
   "outputs": [
    {
     "name": "stdout",
     "output_type": "stream",
     "text": [
      "<class 'pandas.core.frame.DataFrame'>\n",
      "RangeIndex: 3263 entries, 0 to 3262\n",
      "Data columns (total 4 columns):\n",
      " #   Column    Non-Null Count  Dtype \n",
      "---  ------    --------------  ----- \n",
      " 0   id        3263 non-null   int64 \n",
      " 1   keyword   3237 non-null   object\n",
      " 2   location  2158 non-null   object\n",
      " 3   text      3263 non-null   object\n",
      "dtypes: int64(1), object(3)\n",
      "memory usage: 102.1+ KB\n"
     ]
    }
   ],
   "source": [
    "df_test = pd.read_csv('test.csv')\n",
    "\n",
    "df_test.info()"
   ]
  },
  {
   "cell_type": "markdown",
   "id": "8b4c248a-0efd-4f96-b421-4185a5c22945",
   "metadata": {},
   "source": [
    "Looks like we need to tweak our clean function to not remove nan values just for our test case"
   ]
  },
  {
   "cell_type": "code",
   "execution_count": 52,
   "id": "b7b3b9cf-8db4-48f2-b5b7-ec8e7d31a5f0",
   "metadata": {},
   "outputs": [],
   "source": [
    "def clean_test_data(df_train):\n",
    "    # remove locations\n",
    "    df_train.drop(columns = ['location'],inplace=True)\n",
    "    # fixing keywords from spaces\n",
    "    df_train.keyword.fillna('',inplace=True)\n",
    "    df_train.keyword = df_train.keyword.str.replace('%20',' ')\n",
    "    # remove links and twitter @ tags\n",
    "    df_train['text'] = df_train['text'].apply(lambda x: re.split('http:\\/\\/.*', str(x))[0])\n",
    "    df_train['text'] = [ re.sub( \"@[^\\s]+\", \"\",x) for x in df_train['text'] ]\n",
    "    # removing the # from texts\n",
    "    df_train['text'] = df_train['text'].replace('#','')\n",
    "    # Remove all punctuation\n",
    "    df_train['text'] = df_train['text'].str.replace('[^\\w\\s]',' ')\n",
    "    # add keyword to text\n",
    "    df_train['text'] = df_train['keyword']+' '+ df_train['text']\n",
    "    # lemmatize text\n",
    "    nlp = spacy.load('en_core_web_md')\n",
    "    lemma_text = []\n",
    "    vector_text = []\n",
    "    for text in df_train['text']:\n",
    "        lemmatized_sentence = []\n",
    "        doc = nlp(text)\n",
    "        vector_text.append(doc.vector)\n",
    "        for word in doc:\n",
    "            lemmatized_sentence.append(word.lemma_)\n",
    "        lemma_text.append(' '.join(lemmatized_sentence))\n",
    "    df_train['lemma_text'] = lemma_text\n",
    "    df_train['vector_text'] = vector_text\n",
    "    "
   ]
  },
  {
   "cell_type": "code",
   "execution_count": 53,
   "id": "87a0fc61-7312-4d23-b763-dd32ab740677",
   "metadata": {},
   "outputs": [],
   "source": [
    "df_test = pd.read_csv('test.csv')\n",
    "clean_test_data(df_test)"
   ]
  },
  {
   "cell_type": "code",
   "execution_count": 54,
   "id": "ccd11729-9530-4399-a4c4-b127f79085f7",
   "metadata": {},
   "outputs": [],
   "source": [
    "with nlp.disable_pipes():\n",
    "    doc_test_vectors = np.array([nlp(text).vector for text in df_test.lemma_text])\n",
    "    "
   ]
  },
  {
   "cell_type": "markdown",
   "id": "8f72dd51-279d-4b3d-a7fc-85c54251b45f",
   "metadata": {},
   "source": [
    "Nice! our clean data function works"
   ]
  },
  {
   "cell_type": "code",
   "execution_count": 55,
   "id": "900f5a32-e231-4237-9cc5-45c5e1afde2a",
   "metadata": {},
   "outputs": [
    {
     "data": {
      "text/html": [
       "<div>\n",
       "<style scoped>\n",
       "    .dataframe tbody tr th:only-of-type {\n",
       "        vertical-align: middle;\n",
       "    }\n",
       "\n",
       "    .dataframe tbody tr th {\n",
       "        vertical-align: top;\n",
       "    }\n",
       "\n",
       "    .dataframe thead th {\n",
       "        text-align: right;\n",
       "    }\n",
       "</style>\n",
       "<table border=\"1\" class=\"dataframe\">\n",
       "  <thead>\n",
       "    <tr style=\"text-align: right;\">\n",
       "      <th></th>\n",
       "      <th>id</th>\n",
       "      <th>keyword</th>\n",
       "      <th>text</th>\n",
       "      <th>lemma_text</th>\n",
       "      <th>vector_text</th>\n",
       "    </tr>\n",
       "  </thead>\n",
       "  <tbody>\n",
       "    <tr>\n",
       "      <th>0</th>\n",
       "      <td>0</td>\n",
       "      <td></td>\n",
       "      <td>Just happened a terrible car crash</td>\n",
       "      <td>just happen a terrible car crash</td>\n",
       "      <td>[-0.043289717, 0.26410273, -0.12693915, 0.13961129, 0.112736866, -0.13879843, 0.003558855, -0.19388571, -0.009975433, 2.1180143, -0.150581, -0.032039005, -0.014073713, 0.1756867, -0.46892142, -0.17533, -0.1389549, 0.79514647, 0.15214892, -0.15601686, -0.046058428, -0.17108844, 0.08387129, 0.028301997, 0.111256815, -0.026682856, -0.10912657, -0.10375301, 0.12266958, -0.07115484, 0.0068664295, -0.047060005, -0.074686, 0.19624087, 0.023135139, 0.03899128, 0.09167714, 0.10774473, -0.17946456, -0.010435998, 0.2712207, -0.016452143, 0.032477286, 0.122912146, 0.01276, 0.089147285, -0.2361467, -0.13553856, 0.038661003, -0.002578035, -0.031448144, 0.028147135, 0.101424575, 0.23548485, -0.12967357, 0.089275576, -0.019040141, -0.121329986, 0.20846856, -0.090907566, -0.06568063, -0.011910859, -0.051908426, 0.17539756, 0.11087315, -0.018365, 0.049989283, -0.06888928, 0.14956157, 0.2927057, 0.14276, 0.0045092874, 0.1568303, 0.16664828, 0.030409146, -0.106883354, 0.07174738, -0.18715987, -0.25888997, 0.2838443, 0.025382997, 0.095633574, 0.031191716, -0.022539238, -0.032312714, -0.018395139, 0.16677305, -0.27187872, -0.015319995, -0.089565, -0.18356471, 0.11526799, -0.19143489, -0.19904757, -0.010814284, 0.021742, 0.011040285, 0.115857854, 0.30231017, -0.03577843, ...]</td>\n",
       "    </tr>\n",
       "    <tr>\n",
       "      <th>1</th>\n",
       "      <td>2</td>\n",
       "      <td></td>\n",
       "      <td>Heard about  earthquake is different cities  stay safe everyone</td>\n",
       "      <td>hear about   earthquake be different city   stay safe everyone</td>\n",
       "      <td>[0.017195191, 0.16088593, -0.19665648, -0.16031884, 0.07154349, -0.02444452, -0.040693168, -0.002709996, -0.0052762516, 1.8985084, -0.18281771, -0.07040492, -0.009747337, 0.046259835, -0.19452493, -0.08745184, -0.06155249, 0.75793415, -0.11244466, -0.10146925, 0.025320834, 0.033015583, 0.013431754, 0.023889942, 0.021379331, -0.020904293, -0.065634005, -0.03447062, 0.021395003, -0.13393499, 0.027691165, 0.0075789145, -0.008076832, -0.059751917, 0.0828395, 0.0066502406, 0.055584747, 0.06824492, -0.09942954, 0.040854625, -0.044708665, 0.023540331, -0.025846913, -0.011580084, 0.023103341, 0.05941258, -0.10884124, -0.10017568, -0.087092735, -0.19545817, -0.16438751, 0.083676584, -0.16831392, 0.005947503, 0.039432246, 0.098915316, 0.02432158, -0.044304613, 0.005236581, 0.14163482, 0.12321218, -0.1315089, -0.08092758, 0.11746333, 0.08942767, -0.08710692, -0.038330745, 0.10561309, -0.059010327, 0.17869167, -0.002543499, -0.052397165, 0.2927133, -0.059364587, 0.11506384, -0.0006590001, 0.11996784, -0.07575899, 0.052331995, 0.11761141, 0.18059099, 0.066438, -0.07590833, -0.040032998, 0.06721633, -0.14217083, -0.21622099, -0.16939764, 0.16191667, -0.044811413, -0.020456243, 0.014671435, -0.2429751, -0.043129165, 0.084597506, -0.03259254, -0.018928418, -0.034133498, 0.069916345, 0.04839717, ...]</td>\n",
       "    </tr>\n",
       "    <tr>\n",
       "      <th>2</th>\n",
       "      <td>3</td>\n",
       "      <td></td>\n",
       "      <td>there is a forest fire at spot pond  geese are fleeing across the street  I cannot save them all</td>\n",
       "      <td>there be a forest fire at spot pond   geese be flee across the street   I can not save they all</td>\n",
       "      <td>[0.0026686348, 0.048581272, -0.17552017, -0.09000605, 0.094583504, 0.016473267, -0.021325609, -0.015770301, -0.13366878, 2.037452, -0.16842875, -0.039381344, -0.042325728, -0.14814202, -0.21142922, 0.023694223, -0.022793712, 0.99478084, -0.10071031, -0.061273534, -0.04664843, 0.00583326, -0.082282886, 0.04399414, 0.0072882264, 0.007162955, -0.11299938, -0.082375854, 0.017044043, -0.057016253, -0.053553473, 0.040617134, -0.082267925, 0.01913713, -0.018062174, -0.054832168, 0.038308047, -0.0131972125, -0.052933704, -0.08010658, -0.046223722, 0.11737744, -0.012798172, -0.045549218, 0.10582729, 0.07511165, -0.14597578, -0.05428021, -0.07933455, 0.050585523, -0.06696434, 0.060507745, -0.08408888, 0.088206075, 0.028901564, -0.03203939, -0.069300346, -0.08068513, 0.0025753903, 0.096970364, 0.029694824, -0.052423526, -0.053775694, 0.15258154, 0.016372692, 0.00018952269, -0.039335914, 0.029837662, 0.09896519, 0.011919611, 0.0062721437, 0.02643126, 0.17152144, 0.05274186, 0.10105568, -0.017996872, 0.12413382, -0.071678475, 0.0147312125, 0.012301538, 0.013181435, 0.081755124, -0.07983575, 0.004972107, 0.098806754, -0.03689889, 0.08906065, -0.0054272837, 0.106901385, 0.0304408, -0.15117173, 0.083767, 0.067519255, -0.085570775, 0.086439826, -0.02938078, -0.061434604, 0.018087354, 0.040070742, -0.0034769152, ...]</td>\n",
       "    </tr>\n",
       "    <tr>\n",
       "      <th>3</th>\n",
       "      <td>9</td>\n",
       "      <td></td>\n",
       "      <td>Apocalypse lighting   Spokane  wildfires</td>\n",
       "      <td>Apocalypse lighting    Spokane   wildfire</td>\n",
       "      <td>[0.009772144, -0.044232864, 0.10809256, -0.17113428, -0.036180716, -0.087812856, 0.06777571, 0.12805401, -0.07542043, 0.6886886, -0.054926716, -0.27497715, -0.13587578, -0.06445728, -0.24640428, -0.045956004, 0.15943201, 0.5740205, -0.13457943, -0.14432858, 0.00843857, 0.009024571, 0.08174714, -0.23929071, -0.019841572, 0.081790306, -0.07080429, 0.12865229, -0.01870357, 0.00739213, -0.05801353, -0.20857573, -0.08556429, 0.11045129, 0.16177286, 0.097354285, -0.04940414, 0.05217957, 0.19901769, 0.043505717, 0.012760853, 0.07105557, -0.006085713, -0.007432386, -0.001400426, 0.065853424, -0.041375287, -0.115613855, 0.021690859, 0.08886915, -0.05241716, -0.03982408, -0.026269998, 0.06866, -0.19580571, -0.17632928, 0.020056712, -0.0029314288, 0.07124486, -0.025655717, -0.112474, -0.18531942, 0.030659314, -0.07742386, 0.095006995, -0.13873143, -0.13295715, -0.12959571, -0.149911, -0.11285556, 0.13069715, -0.06372543, -0.06925243, 0.032324858, 0.02670286, 0.053577144, -0.045772996, -0.22683087, 0.023613432, 0.076204285, -0.10808729, 0.11905258, 0.14245997, 0.089902855, 0.007058569, -0.07399357, 0.15951021, 0.1778843, -0.05555286, 0.045981567, 0.034399856, -0.09772643, -0.106177144, -0.12504014, -0.07067101, -0.030642854, 0.011337004, 0.20835713, 0.11484486, 0.159762, ...]</td>\n",
       "    </tr>\n",
       "    <tr>\n",
       "      <th>4</th>\n",
       "      <td>11</td>\n",
       "      <td></td>\n",
       "      <td>Typhoon Soudelor kills 28 in China and Taiwan</td>\n",
       "      <td>Typhoon Soudelor kill 28 in China and Taiwan</td>\n",
       "      <td>[-0.23236121, 0.26736313, 0.11222368, -0.08302364, 0.122680224, -0.06194033, -0.030072656, 0.019844554, 0.11388111, 1.1075834, -0.29464287, -0.09517056, -0.21562058, -0.04835786, -0.13183111, -0.019586002, -0.07411711, 0.84785557, -0.074797004, 0.012970673, 0.04682511, 0.19096033, 0.027159665, -0.0946225, 0.038330335, -0.029194113, -0.1316165, 0.023676336, -0.048909187, 0.03680359, 0.011738781, -0.067456886, -0.14407222, 0.07160222, -0.005286998, -0.11116067, 0.015640004, -0.09418811, -0.0099208765, -0.034874782, 0.05920193, -0.029069113, 0.15395689, -0.05298129, 0.11016255, -0.12850334, -0.04705322, -0.036479548, 0.07515534, -0.083817, -0.049907777, -0.07511134, -0.11228655, -0.11849667, -0.2769977, 0.07397822, 0.031248668, 0.03507689, 0.046231665, 0.039519552, -0.13251278, -0.010086775, 0.027217444, 0.014667332, 0.028215442, -0.06245078, -0.1064579, 0.30198702, 0.04876989, 0.088403344, -0.01784989, 0.2066229, -0.12707368, 0.06861364, 0.14552668, 0.04809667, 0.088022225, 0.044347227, 0.08798667, 0.11897688, 0.056858554, 0.102396116, -0.005608002, -0.06270689, -0.03997411, -0.07782145, 0.2502, 0.008440011, -0.025240563, 0.07390962, 0.06775066, 0.00059222843, -0.09541812, -0.210599, 0.16348335, -0.048247006, 0.103221685, -0.10369155, -0.03207822, -0.102575, ...]</td>\n",
       "    </tr>\n",
       "  </tbody>\n",
       "</table>\n",
       "</div>"
      ],
      "text/plain": [
       "   id keyword  \\\n",
       "0   0           \n",
       "1   2           \n",
       "2   3           \n",
       "3   9           \n",
       "4  11           \n",
       "\n",
       "                                                                                                text  \\\n",
       "0                                                                 Just happened a terrible car crash   \n",
       "1                                   Heard about  earthquake is different cities  stay safe everyone    \n",
       "2   there is a forest fire at spot pond  geese are fleeing across the street  I cannot save them all   \n",
       "3                                                           Apocalypse lighting   Spokane  wildfires   \n",
       "4                                                      Typhoon Soudelor kills 28 in China and Taiwan   \n",
       "\n",
       "                                                                                          lemma_text  \\\n",
       "0                                                                   just happen a terrible car crash   \n",
       "1                                     hear about   earthquake be different city   stay safe everyone   \n",
       "2    there be a forest fire at spot pond   geese be flee across the street   I can not save they all   \n",
       "3                                                          Apocalypse lighting    Spokane   wildfire   \n",
       "4                                                       Typhoon Soudelor kill 28 in China and Taiwan   \n",
       "\n",
       "                                                                                                                                                                                                                                                                                                                                                                                                                                                                                                                                                                                                                                                                                                                                                                                                                                                                                                                                                                                                                                                                                                                                                                                                                                                                                                                                                                vector_text  \n",
       "0                                                 [-0.043289717, 0.26410273, -0.12693915, 0.13961129, 0.112736866, -0.13879843, 0.003558855, -0.19388571, -0.009975433, 2.1180143, -0.150581, -0.032039005, -0.014073713, 0.1756867, -0.46892142, -0.17533, -0.1389549, 0.79514647, 0.15214892, -0.15601686, -0.046058428, -0.17108844, 0.08387129, 0.028301997, 0.111256815, -0.026682856, -0.10912657, -0.10375301, 0.12266958, -0.07115484, 0.0068664295, -0.047060005, -0.074686, 0.19624087, 0.023135139, 0.03899128, 0.09167714, 0.10774473, -0.17946456, -0.010435998, 0.2712207, -0.016452143, 0.032477286, 0.122912146, 0.01276, 0.089147285, -0.2361467, -0.13553856, 0.038661003, -0.002578035, -0.031448144, 0.028147135, 0.101424575, 0.23548485, -0.12967357, 0.089275576, -0.019040141, -0.121329986, 0.20846856, -0.090907566, -0.06568063, -0.011910859, -0.051908426, 0.17539756, 0.11087315, -0.018365, 0.049989283, -0.06888928, 0.14956157, 0.2927057, 0.14276, 0.0045092874, 0.1568303, 0.16664828, 0.030409146, -0.106883354, 0.07174738, -0.18715987, -0.25888997, 0.2838443, 0.025382997, 0.095633574, 0.031191716, -0.022539238, -0.032312714, -0.018395139, 0.16677305, -0.27187872, -0.015319995, -0.089565, -0.18356471, 0.11526799, -0.19143489, -0.19904757, -0.010814284, 0.021742, 0.011040285, 0.115857854, 0.30231017, -0.03577843, ...]  \n",
       "1                  [0.017195191, 0.16088593, -0.19665648, -0.16031884, 0.07154349, -0.02444452, -0.040693168, -0.002709996, -0.0052762516, 1.8985084, -0.18281771, -0.07040492, -0.009747337, 0.046259835, -0.19452493, -0.08745184, -0.06155249, 0.75793415, -0.11244466, -0.10146925, 0.025320834, 0.033015583, 0.013431754, 0.023889942, 0.021379331, -0.020904293, -0.065634005, -0.03447062, 0.021395003, -0.13393499, 0.027691165, 0.0075789145, -0.008076832, -0.059751917, 0.0828395, 0.0066502406, 0.055584747, 0.06824492, -0.09942954, 0.040854625, -0.044708665, 0.023540331, -0.025846913, -0.011580084, 0.023103341, 0.05941258, -0.10884124, -0.10017568, -0.087092735, -0.19545817, -0.16438751, 0.083676584, -0.16831392, 0.005947503, 0.039432246, 0.098915316, 0.02432158, -0.044304613, 0.005236581, 0.14163482, 0.12321218, -0.1315089, -0.08092758, 0.11746333, 0.08942767, -0.08710692, -0.038330745, 0.10561309, -0.059010327, 0.17869167, -0.002543499, -0.052397165, 0.2927133, -0.059364587, 0.11506384, -0.0006590001, 0.11996784, -0.07575899, 0.052331995, 0.11761141, 0.18059099, 0.066438, -0.07590833, -0.040032998, 0.06721633, -0.14217083, -0.21622099, -0.16939764, 0.16191667, -0.044811413, -0.020456243, 0.014671435, -0.2429751, -0.043129165, 0.084597506, -0.03259254, -0.018928418, -0.034133498, 0.069916345, 0.04839717, ...]  \n",
       "2  [0.0026686348, 0.048581272, -0.17552017, -0.09000605, 0.094583504, 0.016473267, -0.021325609, -0.015770301, -0.13366878, 2.037452, -0.16842875, -0.039381344, -0.042325728, -0.14814202, -0.21142922, 0.023694223, -0.022793712, 0.99478084, -0.10071031, -0.061273534, -0.04664843, 0.00583326, -0.082282886, 0.04399414, 0.0072882264, 0.007162955, -0.11299938, -0.082375854, 0.017044043, -0.057016253, -0.053553473, 0.040617134, -0.082267925, 0.01913713, -0.018062174, -0.054832168, 0.038308047, -0.0131972125, -0.052933704, -0.08010658, -0.046223722, 0.11737744, -0.012798172, -0.045549218, 0.10582729, 0.07511165, -0.14597578, -0.05428021, -0.07933455, 0.050585523, -0.06696434, 0.060507745, -0.08408888, 0.088206075, 0.028901564, -0.03203939, -0.069300346, -0.08068513, 0.0025753903, 0.096970364, 0.029694824, -0.052423526, -0.053775694, 0.15258154, 0.016372692, 0.00018952269, -0.039335914, 0.029837662, 0.09896519, 0.011919611, 0.0062721437, 0.02643126, 0.17152144, 0.05274186, 0.10105568, -0.017996872, 0.12413382, -0.071678475, 0.0147312125, 0.012301538, 0.013181435, 0.081755124, -0.07983575, 0.004972107, 0.098806754, -0.03689889, 0.08906065, -0.0054272837, 0.106901385, 0.0304408, -0.15117173, 0.083767, 0.067519255, -0.085570775, 0.086439826, -0.02938078, -0.061434604, 0.018087354, 0.040070742, -0.0034769152, ...]  \n",
       "3                                      [0.009772144, -0.044232864, 0.10809256, -0.17113428, -0.036180716, -0.087812856, 0.06777571, 0.12805401, -0.07542043, 0.6886886, -0.054926716, -0.27497715, -0.13587578, -0.06445728, -0.24640428, -0.045956004, 0.15943201, 0.5740205, -0.13457943, -0.14432858, 0.00843857, 0.009024571, 0.08174714, -0.23929071, -0.019841572, 0.081790306, -0.07080429, 0.12865229, -0.01870357, 0.00739213, -0.05801353, -0.20857573, -0.08556429, 0.11045129, 0.16177286, 0.097354285, -0.04940414, 0.05217957, 0.19901769, 0.043505717, 0.012760853, 0.07105557, -0.006085713, -0.007432386, -0.001400426, 0.065853424, -0.041375287, -0.115613855, 0.021690859, 0.08886915, -0.05241716, -0.03982408, -0.026269998, 0.06866, -0.19580571, -0.17632928, 0.020056712, -0.0029314288, 0.07124486, -0.025655717, -0.112474, -0.18531942, 0.030659314, -0.07742386, 0.095006995, -0.13873143, -0.13295715, -0.12959571, -0.149911, -0.11285556, 0.13069715, -0.06372543, -0.06925243, 0.032324858, 0.02670286, 0.053577144, -0.045772996, -0.22683087, 0.023613432, 0.076204285, -0.10808729, 0.11905258, 0.14245997, 0.089902855, 0.007058569, -0.07399357, 0.15951021, 0.1778843, -0.05555286, 0.045981567, 0.034399856, -0.09772643, -0.106177144, -0.12504014, -0.07067101, -0.030642854, 0.011337004, 0.20835713, 0.11484486, 0.159762, ...]  \n",
       "4                                         [-0.23236121, 0.26736313, 0.11222368, -0.08302364, 0.122680224, -0.06194033, -0.030072656, 0.019844554, 0.11388111, 1.1075834, -0.29464287, -0.09517056, -0.21562058, -0.04835786, -0.13183111, -0.019586002, -0.07411711, 0.84785557, -0.074797004, 0.012970673, 0.04682511, 0.19096033, 0.027159665, -0.0946225, 0.038330335, -0.029194113, -0.1316165, 0.023676336, -0.048909187, 0.03680359, 0.011738781, -0.067456886, -0.14407222, 0.07160222, -0.005286998, -0.11116067, 0.015640004, -0.09418811, -0.0099208765, -0.034874782, 0.05920193, -0.029069113, 0.15395689, -0.05298129, 0.11016255, -0.12850334, -0.04705322, -0.036479548, 0.07515534, -0.083817, -0.049907777, -0.07511134, -0.11228655, -0.11849667, -0.2769977, 0.07397822, 0.031248668, 0.03507689, 0.046231665, 0.039519552, -0.13251278, -0.010086775, 0.027217444, 0.014667332, 0.028215442, -0.06245078, -0.1064579, 0.30198702, 0.04876989, 0.088403344, -0.01784989, 0.2066229, -0.12707368, 0.06861364, 0.14552668, 0.04809667, 0.088022225, 0.044347227, 0.08798667, 0.11897688, 0.056858554, 0.102396116, -0.005608002, -0.06270689, -0.03997411, -0.07782145, 0.2502, 0.008440011, -0.025240563, 0.07390962, 0.06775066, 0.00059222843, -0.09541812, -0.210599, 0.16348335, -0.048247006, 0.103221685, -0.10369155, -0.03207822, -0.102575, ...]  "
      ]
     },
     "execution_count": 55,
     "metadata": {},
     "output_type": "execute_result"
    }
   ],
   "source": [
    "df_test.head()"
   ]
  },
  {
   "cell_type": "code",
   "execution_count": 56,
   "id": "ae5bacbc-8c97-477a-991e-c32a580eb6b5",
   "metadata": {},
   "outputs": [
    {
     "data": {
      "text/plain": [
       "array([0, 1, 1, 1, 1], dtype=int64)"
      ]
     },
     "execution_count": 56,
     "metadata": {},
     "output_type": "execute_result"
    }
   ],
   "source": [
    "mlp = MLPClassifier(solver='adam', learning_rate_init=1e-5, hidden_layer_sizes=(90,10), random_state= 0  , activation = 'relu',max_iter = 1900,alpha = 0.001)\n",
    "mlp.fit(doc_vectors, df_train.target)\n",
    "pred_test = mlp.predict(doc_test_vectors)\n",
    "pred_test[:5]"
   ]
  },
  {
   "cell_type": "code",
   "execution_count": 62,
   "id": "9b9376a3-bd6b-4ccd-a4a1-518d4f456f87",
   "metadata": {},
   "outputs": [
    {
     "data": {
      "text/html": [
       "<div>\n",
       "<style scoped>\n",
       "    .dataframe tbody tr th:only-of-type {\n",
       "        vertical-align: middle;\n",
       "    }\n",
       "\n",
       "    .dataframe tbody tr th {\n",
       "        vertical-align: top;\n",
       "    }\n",
       "\n",
       "    .dataframe thead th {\n",
       "        text-align: right;\n",
       "    }\n",
       "</style>\n",
       "<table border=\"1\" class=\"dataframe\">\n",
       "  <thead>\n",
       "    <tr style=\"text-align: right;\">\n",
       "      <th></th>\n",
       "      <th>id</th>\n",
       "      <th>target</th>\n",
       "    </tr>\n",
       "  </thead>\n",
       "  <tbody>\n",
       "    <tr>\n",
       "      <th>0</th>\n",
       "      <td>0</td>\n",
       "      <td>0</td>\n",
       "    </tr>\n",
       "    <tr>\n",
       "      <th>1</th>\n",
       "      <td>2</td>\n",
       "      <td>1</td>\n",
       "    </tr>\n",
       "    <tr>\n",
       "      <th>2</th>\n",
       "      <td>3</td>\n",
       "      <td>1</td>\n",
       "    </tr>\n",
       "    <tr>\n",
       "      <th>3</th>\n",
       "      <td>9</td>\n",
       "      <td>1</td>\n",
       "    </tr>\n",
       "    <tr>\n",
       "      <th>4</th>\n",
       "      <td>11</td>\n",
       "      <td>1</td>\n",
       "    </tr>\n",
       "  </tbody>\n",
       "</table>\n",
       "</div>"
      ],
      "text/plain": [
       "   id  target\n",
       "0   0       0\n",
       "1   2       1\n",
       "2   3       1\n",
       "3   9       1\n",
       "4  11       1"
      ]
     },
     "execution_count": 62,
     "metadata": {},
     "output_type": "execute_result"
    }
   ],
   "source": [
    "submit = pd.DataFrame( [df_test['id'], pred_test] , index= ['id','target'] ).T\n",
    "submit.head()"
   ]
  },
  {
   "cell_type": "code",
   "execution_count": 63,
   "id": "ba4a5a6d-a665-4dbc-beae-4868b57b7e2e",
   "metadata": {},
   "outputs": [],
   "source": [
    "submit.to_csv('submission.csv',index = False)"
   ]
  },
  {
   "cell_type": "markdown",
   "id": "ef7fa3a2-37eb-49a6-be18-cff56620fbf1",
   "metadata": {},
   "source": [
    "# Got a 0.80049 on kaggle! #352 on the leaderboard\n",
    "\n",
    "### Possible improvements\n",
    "- further text editing, removing nonsense words/non-english words \n",
    "- other text fixing like weird symbols or spacing errors"
   ]
  },
  {
   "cell_type": "code",
   "execution_count": null,
   "id": "5198383a-c267-4c2c-b5d3-cdf8c4e702c2",
   "metadata": {},
   "outputs": [],
   "source": []
  }
 ],
 "metadata": {
  "kernelspec": {
   "display_name": "Python 3",
   "language": "python",
   "name": "python3"
  },
  "language_info": {
   "codemirror_mode": {
    "name": "ipython",
    "version": 3
   },
   "file_extension": ".py",
   "mimetype": "text/x-python",
   "name": "python",
   "nbconvert_exporter": "python",
   "pygments_lexer": "ipython3",
   "version": "3.6.13"
  }
 },
 "nbformat": 4,
 "nbformat_minor": 5
}
